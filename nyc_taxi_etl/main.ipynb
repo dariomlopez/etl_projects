{
 "cells": [
  {
   "cell_type": "markdown",
   "id": "5b7fe3bb-527b-4c3a-9500-c2955dffc911",
   "metadata": {},
   "source": [
    "### Datos que contiene cada columna ###\n",
    "https://www.nyc.gov/assets/tlc/downloads/pdf/data_dictionary_trip_records_yellow.pdf"
   ]
  },
  {
   "cell_type": "code",
   "execution_count": 36,
   "id": "40e7a62b-d6fc-4591-b300-c86a275b4753",
   "metadata": {},
   "outputs": [],
   "source": [
    "import pandas as pd\n",
    "import numpy as np\n",
    "import matplotlib.pyplot as matplot\n",
    "\n",
    "%matplotlib inline"
   ]
  },
  {
   "cell_type": "markdown",
   "id": "c8765239-1712-47d8-811b-54a29b8ffc62",
   "metadata": {},
   "source": [
    "# Extract data from Parquet file"
   ]
  },
  {
   "cell_type": "code",
   "execution_count": 37,
   "id": "d58f1068-dded-48fe-9698-b913a5e9acc8",
   "metadata": {},
   "outputs": [
    {
     "data": {
      "text/html": [
       "<div>\n",
       "<style scoped>\n",
       "    .dataframe tbody tr th:only-of-type {\n",
       "        vertical-align: middle;\n",
       "    }\n",
       "\n",
       "    .dataframe tbody tr th {\n",
       "        vertical-align: top;\n",
       "    }\n",
       "\n",
       "    .dataframe thead th {\n",
       "        text-align: right;\n",
       "    }\n",
       "</style>\n",
       "<table border=\"1\" class=\"dataframe\">\n",
       "  <thead>\n",
       "    <tr style=\"text-align: right;\">\n",
       "      <th></th>\n",
       "      <th>VendorID</th>\n",
       "      <th>tpep_pickup_datetime</th>\n",
       "      <th>tpep_dropoff_datetime</th>\n",
       "      <th>passenger_count</th>\n",
       "      <th>trip_distance</th>\n",
       "      <th>RatecodeID</th>\n",
       "      <th>store_and_fwd_flag</th>\n",
       "      <th>PULocationID</th>\n",
       "      <th>DOLocationID</th>\n",
       "      <th>payment_type</th>\n",
       "      <th>fare_amount</th>\n",
       "      <th>extra</th>\n",
       "      <th>mta_tax</th>\n",
       "      <th>tip_amount</th>\n",
       "      <th>tolls_amount</th>\n",
       "      <th>improvement_surcharge</th>\n",
       "      <th>total_amount</th>\n",
       "      <th>congestion_surcharge</th>\n",
       "      <th>Airport_fee</th>\n",
       "    </tr>\n",
       "  </thead>\n",
       "  <tbody>\n",
       "    <tr>\n",
       "      <th>0</th>\n",
       "      <td>2</td>\n",
       "      <td>2024-01-01 00:57:55</td>\n",
       "      <td>2024-01-01 01:17:43</td>\n",
       "      <td>1.0</td>\n",
       "      <td>1.72</td>\n",
       "      <td>1.0</td>\n",
       "      <td>N</td>\n",
       "      <td>186</td>\n",
       "      <td>79</td>\n",
       "      <td>2</td>\n",
       "      <td>17.70</td>\n",
       "      <td>1.00</td>\n",
       "      <td>0.5</td>\n",
       "      <td>0.00</td>\n",
       "      <td>0.00</td>\n",
       "      <td>1.0</td>\n",
       "      <td>22.70</td>\n",
       "      <td>2.5</td>\n",
       "      <td>0.0</td>\n",
       "    </tr>\n",
       "    <tr>\n",
       "      <th>1</th>\n",
       "      <td>1</td>\n",
       "      <td>2024-01-01 00:03:00</td>\n",
       "      <td>2024-01-01 00:09:36</td>\n",
       "      <td>1.0</td>\n",
       "      <td>1.80</td>\n",
       "      <td>1.0</td>\n",
       "      <td>N</td>\n",
       "      <td>140</td>\n",
       "      <td>236</td>\n",
       "      <td>1</td>\n",
       "      <td>10.00</td>\n",
       "      <td>3.50</td>\n",
       "      <td>0.5</td>\n",
       "      <td>3.75</td>\n",
       "      <td>0.00</td>\n",
       "      <td>1.0</td>\n",
       "      <td>18.75</td>\n",
       "      <td>2.5</td>\n",
       "      <td>0.0</td>\n",
       "    </tr>\n",
       "    <tr>\n",
       "      <th>2</th>\n",
       "      <td>1</td>\n",
       "      <td>2024-01-01 00:17:06</td>\n",
       "      <td>2024-01-01 00:35:01</td>\n",
       "      <td>1.0</td>\n",
       "      <td>4.70</td>\n",
       "      <td>1.0</td>\n",
       "      <td>N</td>\n",
       "      <td>236</td>\n",
       "      <td>79</td>\n",
       "      <td>1</td>\n",
       "      <td>23.30</td>\n",
       "      <td>3.50</td>\n",
       "      <td>0.5</td>\n",
       "      <td>3.00</td>\n",
       "      <td>0.00</td>\n",
       "      <td>1.0</td>\n",
       "      <td>31.30</td>\n",
       "      <td>2.5</td>\n",
       "      <td>0.0</td>\n",
       "    </tr>\n",
       "    <tr>\n",
       "      <th>3</th>\n",
       "      <td>1</td>\n",
       "      <td>2024-01-01 00:36:38</td>\n",
       "      <td>2024-01-01 00:44:56</td>\n",
       "      <td>1.0</td>\n",
       "      <td>1.40</td>\n",
       "      <td>1.0</td>\n",
       "      <td>N</td>\n",
       "      <td>79</td>\n",
       "      <td>211</td>\n",
       "      <td>1</td>\n",
       "      <td>10.00</td>\n",
       "      <td>3.50</td>\n",
       "      <td>0.5</td>\n",
       "      <td>2.00</td>\n",
       "      <td>0.00</td>\n",
       "      <td>1.0</td>\n",
       "      <td>17.00</td>\n",
       "      <td>2.5</td>\n",
       "      <td>0.0</td>\n",
       "    </tr>\n",
       "    <tr>\n",
       "      <th>4</th>\n",
       "      <td>1</td>\n",
       "      <td>2024-01-01 00:46:51</td>\n",
       "      <td>2024-01-01 00:52:57</td>\n",
       "      <td>1.0</td>\n",
       "      <td>0.80</td>\n",
       "      <td>1.0</td>\n",
       "      <td>N</td>\n",
       "      <td>211</td>\n",
       "      <td>148</td>\n",
       "      <td>1</td>\n",
       "      <td>7.90</td>\n",
       "      <td>3.50</td>\n",
       "      <td>0.5</td>\n",
       "      <td>3.20</td>\n",
       "      <td>0.00</td>\n",
       "      <td>1.0</td>\n",
       "      <td>16.10</td>\n",
       "      <td>2.5</td>\n",
       "      <td>0.0</td>\n",
       "    </tr>\n",
       "    <tr>\n",
       "      <th>...</th>\n",
       "      <td>...</td>\n",
       "      <td>...</td>\n",
       "      <td>...</td>\n",
       "      <td>...</td>\n",
       "      <td>...</td>\n",
       "      <td>...</td>\n",
       "      <td>...</td>\n",
       "      <td>...</td>\n",
       "      <td>...</td>\n",
       "      <td>...</td>\n",
       "      <td>...</td>\n",
       "      <td>...</td>\n",
       "      <td>...</td>\n",
       "      <td>...</td>\n",
       "      <td>...</td>\n",
       "      <td>...</td>\n",
       "      <td>...</td>\n",
       "      <td>...</td>\n",
       "      <td>...</td>\n",
       "    </tr>\n",
       "    <tr>\n",
       "      <th>2964619</th>\n",
       "      <td>2</td>\n",
       "      <td>2024-01-31 23:45:59</td>\n",
       "      <td>2024-01-31 23:54:36</td>\n",
       "      <td>NaN</td>\n",
       "      <td>3.18</td>\n",
       "      <td>NaN</td>\n",
       "      <td>None</td>\n",
       "      <td>107</td>\n",
       "      <td>263</td>\n",
       "      <td>0</td>\n",
       "      <td>15.77</td>\n",
       "      <td>0.00</td>\n",
       "      <td>0.5</td>\n",
       "      <td>2.00</td>\n",
       "      <td>0.00</td>\n",
       "      <td>1.0</td>\n",
       "      <td>21.77</td>\n",
       "      <td>NaN</td>\n",
       "      <td>NaN</td>\n",
       "    </tr>\n",
       "    <tr>\n",
       "      <th>2964620</th>\n",
       "      <td>1</td>\n",
       "      <td>2024-01-31 23:13:07</td>\n",
       "      <td>2024-01-31 23:27:52</td>\n",
       "      <td>NaN</td>\n",
       "      <td>4.00</td>\n",
       "      <td>NaN</td>\n",
       "      <td>None</td>\n",
       "      <td>114</td>\n",
       "      <td>236</td>\n",
       "      <td>0</td>\n",
       "      <td>18.40</td>\n",
       "      <td>1.00</td>\n",
       "      <td>0.5</td>\n",
       "      <td>2.34</td>\n",
       "      <td>0.00</td>\n",
       "      <td>1.0</td>\n",
       "      <td>25.74</td>\n",
       "      <td>NaN</td>\n",
       "      <td>NaN</td>\n",
       "    </tr>\n",
       "    <tr>\n",
       "      <th>2964621</th>\n",
       "      <td>2</td>\n",
       "      <td>2024-01-31 23:19:00</td>\n",
       "      <td>2024-01-31 23:38:00</td>\n",
       "      <td>NaN</td>\n",
       "      <td>3.33</td>\n",
       "      <td>NaN</td>\n",
       "      <td>None</td>\n",
       "      <td>211</td>\n",
       "      <td>25</td>\n",
       "      <td>0</td>\n",
       "      <td>19.97</td>\n",
       "      <td>0.00</td>\n",
       "      <td>0.5</td>\n",
       "      <td>0.00</td>\n",
       "      <td>0.00</td>\n",
       "      <td>1.0</td>\n",
       "      <td>23.97</td>\n",
       "      <td>NaN</td>\n",
       "      <td>NaN</td>\n",
       "    </tr>\n",
       "    <tr>\n",
       "      <th>2964622</th>\n",
       "      <td>2</td>\n",
       "      <td>2024-01-31 23:07:23</td>\n",
       "      <td>2024-01-31 23:25:14</td>\n",
       "      <td>NaN</td>\n",
       "      <td>3.06</td>\n",
       "      <td>NaN</td>\n",
       "      <td>None</td>\n",
       "      <td>107</td>\n",
       "      <td>13</td>\n",
       "      <td>0</td>\n",
       "      <td>23.88</td>\n",
       "      <td>0.00</td>\n",
       "      <td>0.5</td>\n",
       "      <td>5.58</td>\n",
       "      <td>0.00</td>\n",
       "      <td>1.0</td>\n",
       "      <td>33.46</td>\n",
       "      <td>NaN</td>\n",
       "      <td>NaN</td>\n",
       "    </tr>\n",
       "    <tr>\n",
       "      <th>2964623</th>\n",
       "      <td>1</td>\n",
       "      <td>2024-01-31 23:58:25</td>\n",
       "      <td>2024-02-01 00:13:30</td>\n",
       "      <td>NaN</td>\n",
       "      <td>8.10</td>\n",
       "      <td>NaN</td>\n",
       "      <td>None</td>\n",
       "      <td>138</td>\n",
       "      <td>75</td>\n",
       "      <td>0</td>\n",
       "      <td>32.40</td>\n",
       "      <td>7.75</td>\n",
       "      <td>0.5</td>\n",
       "      <td>7.29</td>\n",
       "      <td>6.94</td>\n",
       "      <td>1.0</td>\n",
       "      <td>55.88</td>\n",
       "      <td>NaN</td>\n",
       "      <td>NaN</td>\n",
       "    </tr>\n",
       "  </tbody>\n",
       "</table>\n",
       "<p>2964624 rows × 19 columns</p>\n",
       "</div>"
      ],
      "text/plain": [
       "         VendorID tpep_pickup_datetime tpep_dropoff_datetime  passenger_count  \\\n",
       "0               2  2024-01-01 00:57:55   2024-01-01 01:17:43              1.0   \n",
       "1               1  2024-01-01 00:03:00   2024-01-01 00:09:36              1.0   \n",
       "2               1  2024-01-01 00:17:06   2024-01-01 00:35:01              1.0   \n",
       "3               1  2024-01-01 00:36:38   2024-01-01 00:44:56              1.0   \n",
       "4               1  2024-01-01 00:46:51   2024-01-01 00:52:57              1.0   \n",
       "...           ...                  ...                   ...              ...   \n",
       "2964619         2  2024-01-31 23:45:59   2024-01-31 23:54:36              NaN   \n",
       "2964620         1  2024-01-31 23:13:07   2024-01-31 23:27:52              NaN   \n",
       "2964621         2  2024-01-31 23:19:00   2024-01-31 23:38:00              NaN   \n",
       "2964622         2  2024-01-31 23:07:23   2024-01-31 23:25:14              NaN   \n",
       "2964623         1  2024-01-31 23:58:25   2024-02-01 00:13:30              NaN   \n",
       "\n",
       "         trip_distance  RatecodeID store_and_fwd_flag  PULocationID  \\\n",
       "0                 1.72         1.0                  N           186   \n",
       "1                 1.80         1.0                  N           140   \n",
       "2                 4.70         1.0                  N           236   \n",
       "3                 1.40         1.0                  N            79   \n",
       "4                 0.80         1.0                  N           211   \n",
       "...                ...         ...                ...           ...   \n",
       "2964619           3.18         NaN               None           107   \n",
       "2964620           4.00         NaN               None           114   \n",
       "2964621           3.33         NaN               None           211   \n",
       "2964622           3.06         NaN               None           107   \n",
       "2964623           8.10         NaN               None           138   \n",
       "\n",
       "         DOLocationID  payment_type  fare_amount  extra  mta_tax  tip_amount  \\\n",
       "0                  79             2        17.70   1.00      0.5        0.00   \n",
       "1                 236             1        10.00   3.50      0.5        3.75   \n",
       "2                  79             1        23.30   3.50      0.5        3.00   \n",
       "3                 211             1        10.00   3.50      0.5        2.00   \n",
       "4                 148             1         7.90   3.50      0.5        3.20   \n",
       "...               ...           ...          ...    ...      ...         ...   \n",
       "2964619           263             0        15.77   0.00      0.5        2.00   \n",
       "2964620           236             0        18.40   1.00      0.5        2.34   \n",
       "2964621            25             0        19.97   0.00      0.5        0.00   \n",
       "2964622            13             0        23.88   0.00      0.5        5.58   \n",
       "2964623            75             0        32.40   7.75      0.5        7.29   \n",
       "\n",
       "         tolls_amount  improvement_surcharge  total_amount  \\\n",
       "0                0.00                    1.0         22.70   \n",
       "1                0.00                    1.0         18.75   \n",
       "2                0.00                    1.0         31.30   \n",
       "3                0.00                    1.0         17.00   \n",
       "4                0.00                    1.0         16.10   \n",
       "...               ...                    ...           ...   \n",
       "2964619          0.00                    1.0         21.77   \n",
       "2964620          0.00                    1.0         25.74   \n",
       "2964621          0.00                    1.0         23.97   \n",
       "2964622          0.00                    1.0         33.46   \n",
       "2964623          6.94                    1.0         55.88   \n",
       "\n",
       "         congestion_surcharge  Airport_fee  \n",
       "0                         2.5          0.0  \n",
       "1                         2.5          0.0  \n",
       "2                         2.5          0.0  \n",
       "3                         2.5          0.0  \n",
       "4                         2.5          0.0  \n",
       "...                       ...          ...  \n",
       "2964619                   NaN          NaN  \n",
       "2964620                   NaN          NaN  \n",
       "2964621                   NaN          NaN  \n",
       "2964622                   NaN          NaN  \n",
       "2964623                   NaN          NaN  \n",
       "\n",
       "[2964624 rows x 19 columns]"
      ]
     },
     "execution_count": 37,
     "metadata": {},
     "output_type": "execute_result"
    }
   ],
   "source": [
    "url = 'https://d37ci6vzurychx.cloudfront.net/trip-data/yellow_tripdata_2024-01.parquet'\n",
    "taxi_dataframe = pd.read_parquet(url, engine='pyarrow')\n",
    "taxi_dataframe"
   ]
  },
  {
   "cell_type": "code",
   "execution_count": 38,
   "id": "3c52b10c",
   "metadata": {},
   "outputs": [
    {
     "data": {
      "text/plain": [
       "VendorID                          int32\n",
       "tpep_pickup_datetime     datetime64[us]\n",
       "tpep_dropoff_datetime    datetime64[us]\n",
       "passenger_count                 float64\n",
       "trip_distance                   float64\n",
       "RatecodeID                      float64\n",
       "store_and_fwd_flag               object\n",
       "PULocationID                      int32\n",
       "DOLocationID                      int32\n",
       "payment_type                      int64\n",
       "fare_amount                     float64\n",
       "extra                           float64\n",
       "mta_tax                         float64\n",
       "tip_amount                      float64\n",
       "tolls_amount                    float64\n",
       "improvement_surcharge           float64\n",
       "total_amount                    float64\n",
       "congestion_surcharge            float64\n",
       "Airport_fee                     float64\n",
       "dtype: object"
      ]
     },
     "execution_count": 38,
     "metadata": {},
     "output_type": "execute_result"
    }
   ],
   "source": [
    "taxi_dataframe.dtypes"
   ]
  },
  {
   "cell_type": "markdown",
   "id": "235b9879-e40d-473e-a2f8-3fcd0c7671eb",
   "metadata": {},
   "source": [
    "# Transform data"
   ]
  },
  {
   "cell_type": "markdown",
   "id": "9a4566b7-8c4b-4659-8cae-3eeceb42eea9",
   "metadata": {},
   "source": [
    "Choosing the columns we are interested in"
   ]
  },
  {
   "cell_type": "code",
   "execution_count": 39,
   "id": "b09b24fc-c250-46b9-be13-d253f6b5c98f",
   "metadata": {},
   "outputs": [],
   "source": [
    "taxi_dataframe = taxi_dataframe[['tpep_pickup_datetime', 'tpep_dropoff_datetime', 'trip_distance', 'RatecodeID', 'PULocationID', 'DOLocationID', 'payment_type', 'total_amount']]"
   ]
  },
  {
   "cell_type": "code",
   "execution_count": 40,
   "id": "5ee2bd0f-ec22-4cb9-886b-1269ddfa353c",
   "metadata": {},
   "outputs": [
    {
     "data": {
      "text/html": [
       "<div>\n",
       "<style scoped>\n",
       "    .dataframe tbody tr th:only-of-type {\n",
       "        vertical-align: middle;\n",
       "    }\n",
       "\n",
       "    .dataframe tbody tr th {\n",
       "        vertical-align: top;\n",
       "    }\n",
       "\n",
       "    .dataframe thead th {\n",
       "        text-align: right;\n",
       "    }\n",
       "</style>\n",
       "<table border=\"1\" class=\"dataframe\">\n",
       "  <thead>\n",
       "    <tr style=\"text-align: right;\">\n",
       "      <th></th>\n",
       "      <th>tpep_pickup_datetime</th>\n",
       "      <th>tpep_dropoff_datetime</th>\n",
       "      <th>trip_distance</th>\n",
       "      <th>RatecodeID</th>\n",
       "      <th>PULocationID</th>\n",
       "      <th>DOLocationID</th>\n",
       "      <th>payment_type</th>\n",
       "      <th>total_amount</th>\n",
       "    </tr>\n",
       "  </thead>\n",
       "  <tbody>\n",
       "    <tr>\n",
       "      <th>0</th>\n",
       "      <td>2024-01-01 00:57:55</td>\n",
       "      <td>2024-01-01 01:17:43</td>\n",
       "      <td>1.72</td>\n",
       "      <td>1.0</td>\n",
       "      <td>186</td>\n",
       "      <td>79</td>\n",
       "      <td>2</td>\n",
       "      <td>22.70</td>\n",
       "    </tr>\n",
       "    <tr>\n",
       "      <th>1</th>\n",
       "      <td>2024-01-01 00:03:00</td>\n",
       "      <td>2024-01-01 00:09:36</td>\n",
       "      <td>1.80</td>\n",
       "      <td>1.0</td>\n",
       "      <td>140</td>\n",
       "      <td>236</td>\n",
       "      <td>1</td>\n",
       "      <td>18.75</td>\n",
       "    </tr>\n",
       "    <tr>\n",
       "      <th>2</th>\n",
       "      <td>2024-01-01 00:17:06</td>\n",
       "      <td>2024-01-01 00:35:01</td>\n",
       "      <td>4.70</td>\n",
       "      <td>1.0</td>\n",
       "      <td>236</td>\n",
       "      <td>79</td>\n",
       "      <td>1</td>\n",
       "      <td>31.30</td>\n",
       "    </tr>\n",
       "    <tr>\n",
       "      <th>3</th>\n",
       "      <td>2024-01-01 00:36:38</td>\n",
       "      <td>2024-01-01 00:44:56</td>\n",
       "      <td>1.40</td>\n",
       "      <td>1.0</td>\n",
       "      <td>79</td>\n",
       "      <td>211</td>\n",
       "      <td>1</td>\n",
       "      <td>17.00</td>\n",
       "    </tr>\n",
       "    <tr>\n",
       "      <th>4</th>\n",
       "      <td>2024-01-01 00:46:51</td>\n",
       "      <td>2024-01-01 00:52:57</td>\n",
       "      <td>0.80</td>\n",
       "      <td>1.0</td>\n",
       "      <td>211</td>\n",
       "      <td>148</td>\n",
       "      <td>1</td>\n",
       "      <td>16.10</td>\n",
       "    </tr>\n",
       "  </tbody>\n",
       "</table>\n",
       "</div>"
      ],
      "text/plain": [
       "  tpep_pickup_datetime tpep_dropoff_datetime  trip_distance  RatecodeID  \\\n",
       "0  2024-01-01 00:57:55   2024-01-01 01:17:43           1.72         1.0   \n",
       "1  2024-01-01 00:03:00   2024-01-01 00:09:36           1.80         1.0   \n",
       "2  2024-01-01 00:17:06   2024-01-01 00:35:01           4.70         1.0   \n",
       "3  2024-01-01 00:36:38   2024-01-01 00:44:56           1.40         1.0   \n",
       "4  2024-01-01 00:46:51   2024-01-01 00:52:57           0.80         1.0   \n",
       "\n",
       "   PULocationID  DOLocationID  payment_type  total_amount  \n",
       "0           186            79             2         22.70  \n",
       "1           140           236             1         18.75  \n",
       "2           236            79             1         31.30  \n",
       "3            79           211             1         17.00  \n",
       "4           211           148             1         16.10  "
      ]
     },
     "execution_count": 40,
     "metadata": {},
     "output_type": "execute_result"
    }
   ],
   "source": [
    "taxi_dataframe.head()"
   ]
  },
  {
   "cell_type": "markdown",
   "id": "c46963c6-8128-4ff4-b837-74272f8f1943",
   "metadata": {},
   "source": [
    "#### Let see the data graphically"
   ]
  },
  {
   "cell_type": "code",
   "execution_count": 41,
   "id": "a99c2407-e97e-47e2-b089-03ce98b096d5",
   "metadata": {
    "scrolled": true
   },
   "outputs": [],
   "source": [
    "taxi_dataframe.hist(figsize=(30,20), bins=60)"
   ]
  },
  {
   "cell_type": "markdown",
   "id": "2f584292-7194-4906-b532-28fbe7091d23",
   "metadata": {},
   "source": [
    "There are columns that need some fixing:\n",
    "- RatecodeID column, according to the pdf, only have six possible ID's. But we see different values.\n",
    "- Negative values and huge amounts values in total_amount\n",
    "- Years that are not 2024 and months different from january\n",
    "- Huge trip distances or too low trip_distances convined with unproportional total_amount\n",
    "- Doesn't appear graphically but there are NaN/null cells"
   ]
  },
  {
   "cell_type": "code",
   "execution_count": null,
   "id": "2d34898d-4338-4456-a833-041706e62f48",
   "metadata": {},
   "outputs": [
    {
     "data": {
      "text/plain": [
       "RatecodeID\n",
       "1.0     2663350\n",
       "2.0       98713\n",
       "99.0      28663\n",
       "5.0       19410\n",
       "3.0        7954\n",
       "4.0        6365\n",
       "6.0           7\n",
       "Name: count, dtype: int64"
      ]
     },
     "execution_count": 9,
     "metadata": {},
     "output_type": "execute_result"
    }
   ],
   "source": [
    "taxi_dataframe['RatecodeID'].value_counts()"
   ]
  },
  {
   "cell_type": "markdown",
   "id": "f1ddb4d2-0ff7-43d7-b182-cee390c57956",
   "metadata": {},
   "source": [
    "#### Wrong data in column RatecodeID\n",
    "\n",
    "A 99 was marked 28663 times as rate code.\n",
    "- Context: RatecodeID is a column that indicates the type of fare applied, with a defined set of valid values.\n",
    "- Action: Records with RatecodeID values that did not belong to the expected set were identified and removed.\n",
    "- Impact: Ensures that all records in the dataset have recognized fare codes, enabling accurate analysis of fares by type."
   ]
  },
  {
   "cell_type": "code",
   "execution_count": null,
   "id": "b4370ab6-6933-4ced-8110-73d0b12177ce",
   "metadata": {},
   "outputs": [
    {
     "name": "stdout",
     "output_type": "stream",
     "text": [
      "Número de campos erroneos en ratecode: 28663 \n",
      "Percentage of wronk RatecodeID over total of rows: 0.967%\n"
     ]
    }
   ],
   "source": [
    "wrong_ratecode = taxi_dataframe[taxi_dataframe['RatecodeID'] > 6].shape[0]\n",
    "total_data = taxi_dataframe.shape[0]\n",
    "\n",
    "wrong_ratecode_percent = (wrong_ratecode / total_data) * 100\n",
    "print(f'Número de campos erroneos en ratecode: {wrong_ratecode} \\nPercentage of wronk RatecodeID over total of rows: {wrong_ratecode_percent:.3f}%')"
   ]
  },
  {
   "cell_type": "markdown",
   "id": "df9f4cb3-97d3-4be0-8377-34c9e4bd27ac",
   "metadata": {},
   "source": [
    "#### Null or NaN data\n",
    "- Context: The presence of null or NaN values in any key column could lead to incomplete or incorrect results in the analysis.\n",
    "- Action: All records containing null or NaN values in essential columns were removed.\n",
    "- Impact: This step ensures that all records in the dataset are complete and valid for analysis."
   ]
  },
  {
   "cell_type": "code",
   "execution_count": null,
   "id": "0ca17f73-cb63-4254-aa8f-14bfc806383c",
   "metadata": {},
   "outputs": [
    {
     "name": "stdout",
     "output_type": "stream",
     "text": [
      "NaN/null data: 140162 \n",
      "Percentage of NaN/null data over total of rows: 4.728%\n"
     ]
    }
   ],
   "source": [
    "null_data = taxi_dataframe.isna().sum().sum()\n",
    "\n",
    "null_percent = (null_data / total_data) * 100\n",
    "print(f'NaN/null data: {null_data} \\nPercentage of NaN/null data over total of rows: {null_percent:.3f}%')"
   ]
  },
  {
   "cell_type": "markdown",
   "id": "36a82e74-074a-4d2a-b025-cb60a84a5890",
   "metadata": {},
   "source": [
    "All Nan/null data seems to be located in RatecodeID column"
   ]
  },
  {
   "cell_type": "code",
   "execution_count": null,
   "id": "df83d07a-1ae9-4430-a3b6-4fd4f716993a",
   "metadata": {},
   "outputs": [
    {
     "name": "stdout",
     "output_type": "stream",
     "text": [
      "Total incorrect data: 168825\n",
      "Total over the column: 5.695%\n"
     ]
    },
    {
     "data": {
      "text/plain": [
       "'Total of unwanted data in RatecodeId: 5.695%'"
      ]
     },
     "execution_count": 12,
     "metadata": {},
     "output_type": "execute_result"
    }
   ],
   "source": [
    "wrong_ratecode_data = wrong_ratecode_percent + null_percent\n",
    "\n",
    "print(f'Total incorrect data: {wrong_ratecode + null_data}')\n",
    "print(f'Total over the column: {(((wrong_ratecode + null_data) / total_data) * 100):.3f}%')\n",
    "\n",
    "f'Total of unwanted data in RatecodeId: {wrong_ratecode_data:.3f}%'"
   ]
  },
  {
   "cell_type": "markdown",
   "id": "bdb518ca-fb41-434b-a4f8-1a6a47aadee0",
   "metadata": {},
   "source": [
    "#### Negatives values in column total_amount.\n",
    "- Context: Records with negative values were found in the total_amount column, which is inconsistent with the logic of the data (since a negative fare doesn’t make sense).\n",
    "- Action: All records with negative values in total_amount were removed.\n",
    "- Impact: This prevents distortion in future analyses, as these negative values do not reflect real fares."
   ]
  },
  {
   "cell_type": "code",
   "execution_count": null,
   "id": "e400db09-c80f-4f31-abbe-64a7c105ed4c",
   "metadata": {},
   "outputs": [
    {
     "name": "stdout",
     "output_type": "stream",
     "text": [
      "Negative percentage in 'total_amount': 1.20%\n"
     ]
    }
   ],
   "source": [
    "negative_values = taxi_dataframe[taxi_dataframe['total_amount'] < 0].shape[0]\n",
    "negative_values_percent = (negative_values / total_data) * 100\n",
    "\n",
    "negative_values_column = (negative_values / total_data) * 100\n",
    "\n",
    "print(f\"Negative percentage in 'total_amount': {negative_values_column:.2f}%\")"
   ]
  },
  {
   "cell_type": "markdown",
   "id": "0d076f08-4fbe-448c-bbd4-98ca5a5550c2",
   "metadata": {},
   "source": [
    "Cleaning wrong data and null data in RatecodeID, and drop negative values in total_amount"
   ]
  },
  {
   "cell_type": "code",
   "execution_count": null,
   "id": "feca98ed-fbff-4d46-be3e-b5e78558eca6",
   "metadata": {},
   "outputs": [
    {
     "name": "stdout",
     "output_type": "stream",
     "text": [
      "Data cleaning so far: \n",
      "RatecodeID\n",
      "1.0    2630858\n",
      "2.0      96658\n",
      "5.0      18640\n",
      "3.0       7617\n",
      "4.0       6144\n",
      "6.0          5\n",
      "Name: count, dtype: int64\n",
      "\n",
      "Datos negativos en total_amount\n",
      "0\n",
      "\n",
      "Campos nulos: \n",
      "tpep_pickup_datetime     0\n",
      "tpep_dropoff_datetime    0\n",
      "trip_distance            0\n",
      "RatecodeID               0\n",
      "PULocationID             0\n",
      "DOLocationID             0\n",
      "payment_type             0\n",
      "total_amount             0\n",
      "dtype: int64\n"
     ]
    }
   ],
   "source": [
    "taxi_dataframe_filtered = taxi_dataframe[(taxi_dataframe['RatecodeID'] <= 6) & (taxi_dataframe['total_amount'] > 0)]\n",
    "\n",
    "taxi_dataframe_filtered = taxi_dataframe_filtered.dropna()\n",
    "\n",
    "print('''Data cleaning so far: ''')\n",
    "print(taxi_dataframe_filtered['RatecodeID'].value_counts())\n",
    "print('''\\nDatos negativos en total_amount''')\n",
    "print(taxi_dataframe_filtered[taxi_dataframe_filtered['total_amount'] < 0].shape[0])\n",
    "print(f'\\nCampos nulos: \\n{taxi_dataframe_filtered.isnull().sum()}')"
   ]
  },
  {
   "cell_type": "code",
   "execution_count": null,
   "id": "78247ce5-b4b8-42ec-ad1c-f212bafab224",
   "metadata": {},
   "outputs": [
    {
     "name": "stdout",
     "output_type": "stream",
     "text": [
      "Datos originales: (2964624, 8)\n",
      "Datos filtrados: (2759922, 8)\n"
     ]
    }
   ],
   "source": [
    "print(f'Datos originales: {taxi_dataframe.shape}')\n",
    "\n",
    "print(f'Datos filtrados: {taxi_dataframe_filtered.shape}')"
   ]
  },
  {
   "cell_type": "markdown",
   "id": "98aa9c4a-24e4-434b-95b8-62e500fb4ae2",
   "metadata": {},
   "source": [
    "Changing the data types of RatecodeID, PULocationID, DOLocationID, payment_type columns."
   ]
  },
  {
   "cell_type": "code",
   "execution_count": null,
   "id": "909abcfa-6847-4385-89fd-3455e8937a47",
   "metadata": {},
   "outputs": [
    {
     "name": "stderr",
     "output_type": "stream",
     "text": [
      "C:\\Users\\dario.maroto\\AppData\\Local\\Temp\\ipykernel_11536\\2506915822.py:3: FutureWarning: Setting an item of incompatible dtype is deprecated and will raise in a future error of pandas. Value '['1.0' '1.0' '1.0' ... '1.0' '1.0' '1.0']' has dtype incompatible with float64, please explicitly cast to a compatible dtype first.\n",
      "  taxi_dataframe_filtered.loc[:,column] = taxi_dataframe_filtered[column].astype('str')\n",
      "C:\\Users\\dario.maroto\\AppData\\Local\\Temp\\ipykernel_11536\\2506915822.py:3: FutureWarning: Setting an item of incompatible dtype is deprecated and will raise in a future error of pandas. Value '['186' '140' '236' ... '43' '142' '140']' has dtype incompatible with int32, please explicitly cast to a compatible dtype first.\n",
      "  taxi_dataframe_filtered.loc[:,column] = taxi_dataframe_filtered[column].astype('str')\n",
      "C:\\Users\\dario.maroto\\AppData\\Local\\Temp\\ipykernel_11536\\2506915822.py:3: FutureWarning: Setting an item of incompatible dtype is deprecated and will raise in a future error of pandas. Value '['79' '236' '79' ... '249' '163' '263']' has dtype incompatible with int32, please explicitly cast to a compatible dtype first.\n",
      "  taxi_dataframe_filtered.loc[:,column] = taxi_dataframe_filtered[column].astype('str')\n",
      "C:\\Users\\dario.maroto\\AppData\\Local\\Temp\\ipykernel_11536\\2506915822.py:3: FutureWarning: Setting an item of incompatible dtype is deprecated and will raise in a future error of pandas. Value '['2' '1' '1' ... '1' '2' '1']' has dtype incompatible with int64, please explicitly cast to a compatible dtype first.\n",
      "  taxi_dataframe_filtered.loc[:,column] = taxi_dataframe_filtered[column].astype('str')\n"
     ]
    }
   ],
   "source": [
    "for column in taxi_dataframe_filtered.columns:\n",
    "    if 'ID' in column or 'payment_type' in column:\n",
    "        taxi_dataframe_filtered.loc[:,column] = taxi_dataframe_filtered[column].astype('str')\n"
   ]
  },
  {
   "cell_type": "code",
   "execution_count": null,
   "id": "5a8419b3-d601-41fe-879e-a0f8ab6c3410",
   "metadata": {},
   "outputs": [
    {
     "data": {
      "text/plain": [
       "tpep_pickup_datetime     datetime64[us]\n",
       "tpep_dropoff_datetime    datetime64[us]\n",
       "trip_distance                   float64\n",
       "RatecodeID                       object\n",
       "PULocationID                     object\n",
       "DOLocationID                     object\n",
       "payment_type                     object\n",
       "total_amount                    float64\n",
       "dtype: object"
      ]
     },
     "execution_count": 19,
     "metadata": {},
     "output_type": "execute_result"
    }
   ],
   "source": [
    "taxi_dataframe_filtered.dtypes"
   ]
  },
  {
   "cell_type": "code",
   "execution_count": null,
   "id": "ff982e40-4886-453a-81ed-010cdb5c797b",
   "metadata": {},
   "outputs": [
    {
     "data": {
      "text/html": [
       "<div>\n",
       "<style scoped>\n",
       "    .dataframe tbody tr th:only-of-type {\n",
       "        vertical-align: middle;\n",
       "    }\n",
       "\n",
       "    .dataframe tbody tr th {\n",
       "        vertical-align: top;\n",
       "    }\n",
       "\n",
       "    .dataframe thead th {\n",
       "        text-align: right;\n",
       "    }\n",
       "</style>\n",
       "<table border=\"1\" class=\"dataframe\">\n",
       "  <thead>\n",
       "    <tr style=\"text-align: right;\">\n",
       "      <th></th>\n",
       "      <th>tpep_pickup_datetime</th>\n",
       "      <th>tpep_dropoff_datetime</th>\n",
       "      <th>trip_distance</th>\n",
       "      <th>RatecodeID</th>\n",
       "      <th>PULocationID</th>\n",
       "      <th>DOLocationID</th>\n",
       "      <th>payment_type</th>\n",
       "      <th>total_amount</th>\n",
       "    </tr>\n",
       "  </thead>\n",
       "  <tbody>\n",
       "    <tr>\n",
       "      <th>0</th>\n",
       "      <td>2024-01-01 00:57:55</td>\n",
       "      <td>2024-01-01 01:17:43</td>\n",
       "      <td>1.72</td>\n",
       "      <td>1.0</td>\n",
       "      <td>186</td>\n",
       "      <td>79</td>\n",
       "      <td>2</td>\n",
       "      <td>22.70</td>\n",
       "    </tr>\n",
       "    <tr>\n",
       "      <th>1</th>\n",
       "      <td>2024-01-01 00:03:00</td>\n",
       "      <td>2024-01-01 00:09:36</td>\n",
       "      <td>1.80</td>\n",
       "      <td>1.0</td>\n",
       "      <td>140</td>\n",
       "      <td>236</td>\n",
       "      <td>1</td>\n",
       "      <td>18.75</td>\n",
       "    </tr>\n",
       "    <tr>\n",
       "      <th>2</th>\n",
       "      <td>2024-01-01 00:17:06</td>\n",
       "      <td>2024-01-01 00:35:01</td>\n",
       "      <td>4.70</td>\n",
       "      <td>1.0</td>\n",
       "      <td>236</td>\n",
       "      <td>79</td>\n",
       "      <td>1</td>\n",
       "      <td>31.30</td>\n",
       "    </tr>\n",
       "    <tr>\n",
       "      <th>3</th>\n",
       "      <td>2024-01-01 00:36:38</td>\n",
       "      <td>2024-01-01 00:44:56</td>\n",
       "      <td>1.40</td>\n",
       "      <td>1.0</td>\n",
       "      <td>79</td>\n",
       "      <td>211</td>\n",
       "      <td>1</td>\n",
       "      <td>17.00</td>\n",
       "    </tr>\n",
       "    <tr>\n",
       "      <th>4</th>\n",
       "      <td>2024-01-01 00:46:51</td>\n",
       "      <td>2024-01-01 00:52:57</td>\n",
       "      <td>0.80</td>\n",
       "      <td>1.0</td>\n",
       "      <td>211</td>\n",
       "      <td>148</td>\n",
       "      <td>1</td>\n",
       "      <td>16.10</td>\n",
       "    </tr>\n",
       "    <tr>\n",
       "      <th>...</th>\n",
       "      <td>...</td>\n",
       "      <td>...</td>\n",
       "      <td>...</td>\n",
       "      <td>...</td>\n",
       "      <td>...</td>\n",
       "      <td>...</td>\n",
       "      <td>...</td>\n",
       "      <td>...</td>\n",
       "    </tr>\n",
       "    <tr>\n",
       "      <th>2824457</th>\n",
       "      <td>2024-01-31 23:10:28</td>\n",
       "      <td>2024-01-31 23:18:30</td>\n",
       "      <td>3.51</td>\n",
       "      <td>1.0</td>\n",
       "      <td>138</td>\n",
       "      <td>129</td>\n",
       "      <td>1</td>\n",
       "      <td>30.31</td>\n",
       "    </tr>\n",
       "    <tr>\n",
       "      <th>2824458</th>\n",
       "      <td>2024-01-31 23:01:04</td>\n",
       "      <td>2024-01-31 23:17:35</td>\n",
       "      <td>3.36</td>\n",
       "      <td>1.0</td>\n",
       "      <td>162</td>\n",
       "      <td>261</td>\n",
       "      <td>1</td>\n",
       "      <td>29.25</td>\n",
       "    </tr>\n",
       "    <tr>\n",
       "      <th>2824459</th>\n",
       "      <td>2024-01-31 23:08:13</td>\n",
       "      <td>2024-01-31 23:25:00</td>\n",
       "      <td>3.30</td>\n",
       "      <td>1.0</td>\n",
       "      <td>43</td>\n",
       "      <td>249</td>\n",
       "      <td>1</td>\n",
       "      <td>23.70</td>\n",
       "    </tr>\n",
       "    <tr>\n",
       "      <th>2824460</th>\n",
       "      <td>2024-01-31 23:49:46</td>\n",
       "      <td>2024-01-31 23:53:10</td>\n",
       "      <td>0.40</td>\n",
       "      <td>1.0</td>\n",
       "      <td>142</td>\n",
       "      <td>163</td>\n",
       "      <td>2</td>\n",
       "      <td>10.10</td>\n",
       "    </tr>\n",
       "    <tr>\n",
       "      <th>2824461</th>\n",
       "      <td>2024-01-31 23:03:26</td>\n",
       "      <td>2024-01-31 23:09:12</td>\n",
       "      <td>1.58</td>\n",
       "      <td>1.0</td>\n",
       "      <td>140</td>\n",
       "      <td>263</td>\n",
       "      <td>1</td>\n",
       "      <td>16.32</td>\n",
       "    </tr>\n",
       "  </tbody>\n",
       "</table>\n",
       "<p>2759922 rows × 8 columns</p>\n",
       "</div>"
      ],
      "text/plain": [
       "        tpep_pickup_datetime tpep_dropoff_datetime  trip_distance RatecodeID  \\\n",
       "0        2024-01-01 00:57:55   2024-01-01 01:17:43           1.72        1.0   \n",
       "1        2024-01-01 00:03:00   2024-01-01 00:09:36           1.80        1.0   \n",
       "2        2024-01-01 00:17:06   2024-01-01 00:35:01           4.70        1.0   \n",
       "3        2024-01-01 00:36:38   2024-01-01 00:44:56           1.40        1.0   \n",
       "4        2024-01-01 00:46:51   2024-01-01 00:52:57           0.80        1.0   \n",
       "...                      ...                   ...            ...        ...   \n",
       "2824457  2024-01-31 23:10:28   2024-01-31 23:18:30           3.51        1.0   \n",
       "2824458  2024-01-31 23:01:04   2024-01-31 23:17:35           3.36        1.0   \n",
       "2824459  2024-01-31 23:08:13   2024-01-31 23:25:00           3.30        1.0   \n",
       "2824460  2024-01-31 23:49:46   2024-01-31 23:53:10           0.40        1.0   \n",
       "2824461  2024-01-31 23:03:26   2024-01-31 23:09:12           1.58        1.0   \n",
       "\n",
       "        PULocationID DOLocationID payment_type  total_amount  \n",
       "0                186           79            2         22.70  \n",
       "1                140          236            1         18.75  \n",
       "2                236           79            1         31.30  \n",
       "3                 79          211            1         17.00  \n",
       "4                211          148            1         16.10  \n",
       "...              ...          ...          ...           ...  \n",
       "2824457          138          129            1         30.31  \n",
       "2824458          162          261            1         29.25  \n",
       "2824459           43          249            1         23.70  \n",
       "2824460          142          163            2         10.10  \n",
       "2824461          140          263            1         16.32  \n",
       "\n",
       "[2759922 rows x 8 columns]"
      ]
     },
     "execution_count": 20,
     "metadata": {},
     "output_type": "execute_result"
    }
   ],
   "source": [
    "taxi_dataframe_filtered"
   ]
  },
  {
   "cell_type": "markdown",
   "id": "fd6a2bc4-2d2f-4218-9844-8ae6f5932d97",
   "metadata": {},
   "source": [
    "#### Let's see again the dataframe graphics"
   ]
  },
  {
   "cell_type": "code",
   "execution_count": null,
   "id": "d6d4d372-e00d-417a-9fe7-33a0ab66d1da",
   "metadata": {},
   "outputs": [
    {
     "data": {
      "text/plain": [
       "array([[<Axes: title={'center': 'tpep_pickup_datetime'}>,\n",
       "        <Axes: title={'center': 'tpep_dropoff_datetime'}>],\n",
       "       [<Axes: title={'center': 'trip_distance'}>,\n",
       "        <Axes: title={'center': 'total_amount'}>]], dtype=object)"
      ]
     },
     "execution_count": 21,
     "metadata": {},
     "output_type": "execute_result"
    },
    {
     "data": {
      "image/png": "[encoded data removed]",
      "text/plain": [
       "<Figure size 3000x2000 with 4 Axes>"
      ]
     },
     "metadata": {},
     "output_type": "display_data"
    }
   ],
   "source": [
    "taxi_dataframe_filtered.hist(figsize=(30,20), bins=60)"
   ]
  },
  {
   "cell_type": "markdown",
   "id": "6dcc93df-71c2-43c2-94ec-877c9edff859",
   "metadata": {},
   "source": [
    "### Dealing and cleaning remaining problems in dataframe\n",
    "\n",
    "- Context: The original dataset included data from different years and months.\n",
    "- Action: The data was filtered to retain only records corresponding to January 2024.\n",
    "- Impact: This step ensures that the analysis is specific to the period of interest, excluding data that is not relevant to the current investigation."
   ]
  },
  {
   "cell_type": "code",
   "execution_count": null,
   "id": "f4a820b7-c2b3-494f-9208-b80defd10cdf",
   "metadata": {},
   "outputs": [
    {
     "name": "stdout",
     "output_type": "stream",
     "text": [
      "Años diferentes a 2024: \n",
      "         tpep_pickup_datetime tpep_dropoff_datetime\n",
      "256      2023-12-31 23:56:46   2024-01-01 00:12:06\n",
      "369      2023-12-31 23:39:17   2023-12-31 23:42:00\n",
      "753      2023-12-31 23:41:02   2023-12-31 23:48:03\n",
      "2210     2023-12-31 23:57:17   2024-01-01 00:01:50\n",
      "2615     2023-12-31 23:56:45   2024-01-01 00:00:28\n",
      "2985     2023-12-31 23:49:12   2024-01-01 00:04:32\n",
      "3176     2023-12-31 23:47:28   2023-12-31 23:57:07\n",
      "4137     2023-12-31 23:58:35   2024-01-01 00:13:06\n",
      "4142     2023-12-31 23:58:37   2024-01-01 00:08:37\n",
      "8628     2023-12-31 23:54:27   2024-01-01 00:13:12\n",
      "10915    2009-01-01 23:58:40   2009-01-02 00:01:40\n",
      "53120    2002-12-31 22:59:39   2002-12-31 23:05:41\n",
      "1230169  2009-01-01 23:30:39   2009-01-02 00:01:39\n",
      "2558056  2009-01-01 00:24:09   2009-01-01 01:13:00 \n",
      "\n",
      "Meses distintos de enero: \n",
      "        tpep_pickup_datetime tpep_dropoff_datetime\n",
      "256      2023-12-31 23:56:46   2024-01-01 00:12:06\n",
      "369      2023-12-31 23:39:17   2023-12-31 23:42:00\n",
      "753      2023-12-31 23:41:02   2023-12-31 23:48:03\n",
      "2210     2023-12-31 23:57:17   2024-01-01 00:01:50\n",
      "2615     2023-12-31 23:56:45   2024-01-01 00:00:28\n",
      "2985     2023-12-31 23:49:12   2024-01-01 00:04:32\n",
      "3176     2023-12-31 23:47:28   2023-12-31 23:57:07\n",
      "4137     2023-12-31 23:58:35   2024-01-01 00:13:06\n",
      "4142     2023-12-31 23:58:37   2024-01-01 00:08:37\n",
      "8628     2023-12-31 23:54:27   2024-01-01 00:13:12\n",
      "53120    2002-12-31 22:59:39   2002-12-31 23:05:41\n",
      "2822633  2024-02-01 00:00:39   2024-02-01 00:12:08\n",
      "2822693  2024-02-01 00:00:17   2024-02-01 00:20:13\n",
      "2823026  2024-02-01 00:01:15   2024-02-01 00:06:30 \n",
      "\n"
     ]
    }
   ],
   "source": [
    "not_2024 = taxi_dataframe_filtered.loc[\n",
    "  taxi_dataframe_filtered['tpep_pickup_datetime'].dt.year < 2024, ['tpep_pickup_datetime', 'tpep_dropoff_datetime']\n",
    "  ]\n",
    "\n",
    "not_january = taxi_dataframe_filtered.loc[\n",
    "  taxi_dataframe_filtered['tpep_pickup_datetime'].dt.month > 1, \n",
    "  ['tpep_pickup_datetime', 'tpep_dropoff_datetime']\n",
    "  ]\n",
    "\n",
    "print(f\"Años diferentes a 2024: \\n {not_2024} \\n\")\n",
    "\n",
    "print(f\"Meses distintos de enero: \\n{not_january} \\n\")"
   ]
  },
  {
   "cell_type": "markdown",
   "id": "d758b7ce-9560-41b5-b2e7-703873a54517",
   "metadata": {},
   "source": [
    "The new variable \"taxi_data_prep\" contains only data of January 2024"
   ]
  },
  {
   "cell_type": "code",
   "execution_count": null,
   "id": "b6a486cc-060a-41da-b867-da0f495f3411",
   "metadata": {},
   "outputs": [
    {
     "name": "stderr",
     "output_type": "stream",
     "text": [
      "C:\\Users\\dario.maroto\\AppData\\Local\\Temp\\ipykernel_11536\\3736536068.py:7: UserWarning: Boolean Series key will be reindexed to match DataFrame index.\n",
      "  taxi_data_prep[\n"
     ]
    },
    {
     "name": "stdout",
     "output_type": "stream",
     "text": [
      "---- Months different to January ----\n",
      "Empty DataFrame\n",
      "Columns: [tpep_pickup_datetime, tpep_dropoff_datetime]\n",
      "Index: []\n",
      "---- Years different to 2024 ---- \n",
      "Empty DataFrame\n",
      "Columns: [tpep_pickup_datetime, tpep_dropoff_datetime]\n",
      "Index: []\n"
     ]
    }
   ],
   "source": [
    "taxi_data_prep = taxi_dataframe_filtered.drop(\n",
    "  taxi_dataframe_filtered[\n",
    "  (taxi_dataframe_filtered['tpep_pickup_datetime'].dt.year != 2024)\n",
    "  ].index)\n",
    "\n",
    "taxi_data_prep = taxi_data_prep.drop(\n",
    "  taxi_data_prep[\n",
    "    (taxi_data_prep['tpep_pickup_datetime'].dt.month > 1) |\n",
    "    (taxi_dataframe_filtered['tpep_dropoff_datetime'].dt.month > 1)\n",
    "    ].index)\n",
    "\n",
    "print('---- Months different to January ----')\n",
    "print(taxi_data_prep.loc[\n",
    "  ((taxi_data_prep['tpep_pickup_datetime'].dt.month > 1) &\n",
    "    (taxi_dataframe_filtered['tpep_dropoff_datetime'].dt.month > 1)),\n",
    "  ['tpep_pickup_datetime', 'tpep_dropoff_datetime']\n",
    "  ])\n",
    "\n",
    "print('---- Years different to 2024 ---- ')\n",
    "print(taxi_data_prep.loc[\n",
    "  (taxi_data_prep['tpep_pickup_datetime'].dt.year != 2024), \n",
    "  # &(taxi_dataframe_filtered['tpep_pickup_datetime'].dt.month > 1),\n",
    "  ['tpep_pickup_datetime', 'tpep_dropoff_datetime']\n",
    "  ])"
   ]
  },
  {
   "cell_type": "markdown",
   "id": "a03bccba",
   "metadata": {},
   "source": [
    "#### Removal of Outliers in Trip Distance and Total Amount.\n",
    "- Context: Outliers were defined as records where the total fare (total_amount) was excessively high relative to the trip distance (trip_distance).\n",
    "- Action: These outliers were removed using a set of predefined conditions for each distance range.\n",
    "- Impact: The removal of outliers significantly reduced the dataset size, retaining only 30% of the original data, which suggests a large number of atypical or erroneous records."
   ]
  },
  {
   "cell_type": "code",
   "execution_count": null,
   "id": "3a832eb6",
   "metadata": {},
   "outputs": [
    {
     "name": "stdout",
     "output_type": "stream",
     "text": [
      "Number of rows with outliers: 2759316\n",
      "Number of row without outliers: 782564\n",
      " Percent of rows without outliers 28.36%\n"
     ]
    }
   ],
   "source": [
    "conditions = taxi_data_prep[    \n",
    "    (taxi_data_prep['trip_distance'] <= 1) & (taxi_data_prep['total_amount'] > 10) |\n",
    "    (taxi_data_prep['trip_distance'] <= 2) & (taxi_data_prep['total_amount'] > 15) |\n",
    "    (taxi_data_prep['trip_distance'] <= 3) & (taxi_data_prep['total_amount'] > 20) |\n",
    "    (taxi_data_prep['trip_distance'] <= 5) & (taxi_data_prep['total_amount'] > 35) |\n",
    "    (taxi_data_prep['trip_distance'] <= 10) & (taxi_data_prep['total_amount'] > 50) |\n",
    "    (taxi_data_prep['trip_distance'] <= 20) & (taxi_data_prep['total_amount'] > 100)\n",
    "].index\n",
    "\n",
    "taxi_df_cleaned = taxi_data_prep.drop(conditions, errors='ignore')\n",
    "\n",
    "with_outliers = taxi_data_prep.shape[0]\n",
    "without_outliers = taxi_df_cleaned.shape[0]\n",
    "\n",
    "print(\"Number of rows with outliers:\", with_outliers)\n",
    "\n",
    "print(\"Number of row without outliers:\", without_outliers)\n",
    "\n",
    "print(f'Percent of rows without outliers {(without_outliers/with_outliers) * 100:.2f}%')"
   ]
  },
  {
   "cell_type": "markdown",
   "id": "8c0e9e88-515d-42d2-9855-e37fd000867f",
   "metadata": {},
   "source": [
    "### Calcular el promedio de gasto del mes de enero"
   ]
  },
  {
   "cell_type": "code",
   "execution_count": null,
   "id": "856ccc90-c8b7-46d0-b338-51ff0671ec2a",
   "metadata": {},
   "outputs": [
    {
     "name": "stdout",
     "output_type": "stream",
     "text": [
      "Media de gasto en el mes de enero: 27.29\n",
      "El gasto que más aparece en el mes de enero: 16.8\n"
     ]
    }
   ],
   "source": [
    "average_spent_january = taxi_df_cleaned['total_amount'].mean()\n",
    "print(f'Media de gasto en el mes de enero: {average_spent_january:.2f}')\n",
    "\n",
    "mode_january = taxi_df_cleaned['total_amount'].mode().to_string()\n",
    "\n",
    "print(f'El gasto que más aparece en el mes de enero: {mode_january[-4:]}')"
   ]
  },
  {
   "cell_type": "markdown",
   "id": "88c0cea6-ac25-423d-8aef-52a81bc71ea1",
   "metadata": {},
   "source": [
    "### Calcular el promedio por día"
   ]
  },
  {
   "cell_type": "code",
   "execution_count": null,
   "id": "6c381f6d-16fb-4b90-9db4-2b1144b22ffb",
   "metadata": {},
   "outputs": [
    {
     "name": "stdout",
     "output_type": "stream",
     "text": [
      "31\n",
      "El gasto promedio diario en enero de 2024 es: 27.41\n"
     ]
    }
   ],
   "source": [
    "daily_totals = taxi_df_cleaned.groupby(taxi_df_cleaned['tpep_pickup_datetime'].dt.day)['total_amount'].mean()\n",
    "\n",
    "# Calcular el número de días en enero\n",
    "num_days = len(daily_totals)\n",
    "print(num_days)\n",
    "\n",
    "# Calcular el gasto promedio diario\n",
    "average_daily_spent = daily_totals.mean()\n",
    "print(f\"El gasto promedio diario en enero de 2024 es: {average_daily_spent:.2f}\")"
   ]
  },
  {
   "cell_type": "markdown",
   "id": "e2bcdc8d-f40e-41c2-bd57-63f9a8518447",
   "metadata": {},
   "source": [
    "# TODO: El pickup location se puede dejar como númerico y con mode se puede ver qué zona se repite más"
   ]
  },
  {
   "cell_type": "code",
   "execution_count": null,
   "id": "58706e45",
   "metadata": {},
   "outputs": [
    {
     "data": {
      "text/plain": [
       "array([[<Axes: title={'center': 'tpep_pickup_datetime'}>,\n",
       "        <Axes: title={'center': 'tpep_dropoff_datetime'}>],\n",
       "       [<Axes: title={'center': 'trip_distance'}>,\n",
       "        <Axes: title={'center': 'total_amount'}>]], dtype=object)"
      ]
     },
     "execution_count": 147,
     "metadata": {},
     "output_type": "execute_result"
    },
    {
     "data": {
      "image/png": "[encoded data removed]",
      "text/plain": [
       "<Figure size 3000x2000 with 4 Axes>"
      ]
     },
     "metadata": {},
     "output_type": "display_data"
    }
   ],
   "source": [
    "taxi_df_cleaned.hist(figsize=(30,20), bins=60)"
   ]
  },
  {
   "cell_type": "code",
   "execution_count": null,
   "id": "ea17ce13",
   "metadata": {},
   "outputs": [],
   "source": []
  }
 ],
 "metadata": {
  "kernelspec": {
   "display_name": "Python 3 (ipykernel)",
   "language": "python",
   "name": "python3"
  },
  "language_info": {
   "codemirror_mode": {
    "name": "ipython",
    "version": 3
   },
   "file_extension": ".py",
   "mimetype": "text/x-python",
   "name": "python",
   "nbconvert_exporter": "python",
   "pygments_lexer": "ipython3",
   "version": "3.12.5"
  }
 },
 "nbformat": 4,
 "nbformat_minor": 5
}

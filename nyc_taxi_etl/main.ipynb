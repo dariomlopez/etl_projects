{
 "cells": [
  {
   "cell_type": "markdown",
   "id": "5b7fe3bb-527b-4c3a-9500-c2955dffc911",
   "metadata": {},
   "source": [
    "### Datos que contiene cada columna ###\n",
    "https://www.nyc.gov/assets/tlc/downloads/pdf/data_dictionary_trip_records_yellow.pdf"
   ]
  },
  {
   "cell_type": "code",
   "execution_count": 6,
   "id": "40e7a62b-d6fc-4591-b300-c86a275b4753",
   "metadata": {},
   "outputs": [],
   "source": [
    "import pandas as pd\n",
    "import matplotlib.pyplot as matplot\n",
    "\n",
    "%matplotlib inline"
   ]
  },
  {
   "cell_type": "markdown",
   "id": "c8765239-1712-47d8-811b-54a29b8ffc62",
   "metadata": {},
   "source": [
    "# Extract data from CSV"
   ]
  },
  {
   "cell_type": "code",
   "execution_count": 7,
   "id": "d58f1068-dded-48fe-9698-b913a5e9acc8",
   "metadata": {},
   "outputs": [
    {
     "ename": "FileNotFoundError",
     "evalue": "[Errno 2] No such file or directory: '/home/jovyan/data_science_project/data/yellow_tripdata_2024-01.csv'",
     "output_type": "error",
     "traceback": [
      "\u001b[0;31m---------------------------------------------------------------------------\u001b[0m",
      "\u001b[0;31mFileNotFoundError\u001b[0m                         Traceback (most recent call last)",
      "Cell \u001b[0;32mIn[7], line 1\u001b[0m\n\u001b[0;32m----> 1\u001b[0m taxi_dataframe \u001b[38;5;241m=\u001b[39m \u001b[43mpd\u001b[49m\u001b[38;5;241;43m.\u001b[39;49m\u001b[43mread_csv\u001b[49m\u001b[43m(\u001b[49m\u001b[38;5;124;43m'\u001b[39;49m\u001b[38;5;124;43m/home/jovyan/data_science_project/data/yellow_tripdata_2024-01.csv\u001b[39;49m\u001b[38;5;124;43m'\u001b[39;49m\u001b[43m,\u001b[49m\u001b[43m \u001b[49m\u001b[43mlow_memory\u001b[49m\u001b[38;5;241;43m=\u001b[39;49m\u001b[38;5;28;43;01mFalse\u001b[39;49;00m\u001b[43m)\u001b[49m\n\u001b[1;32m      2\u001b[0m taxi_dataframe\n",
      "File \u001b[0;32m/opt/conda/lib/python3.11/site-packages/pandas/io/parsers/readers.py:1026\u001b[0m, in \u001b[0;36mread_csv\u001b[0;34m(filepath_or_buffer, sep, delimiter, header, names, index_col, usecols, dtype, engine, converters, true_values, false_values, skipinitialspace, skiprows, skipfooter, nrows, na_values, keep_default_na, na_filter, verbose, skip_blank_lines, parse_dates, infer_datetime_format, keep_date_col, date_parser, date_format, dayfirst, cache_dates, iterator, chunksize, compression, thousands, decimal, lineterminator, quotechar, quoting, doublequote, escapechar, comment, encoding, encoding_errors, dialect, on_bad_lines, delim_whitespace, low_memory, memory_map, float_precision, storage_options, dtype_backend)\u001b[0m\n\u001b[1;32m   1013\u001b[0m kwds_defaults \u001b[38;5;241m=\u001b[39m _refine_defaults_read(\n\u001b[1;32m   1014\u001b[0m     dialect,\n\u001b[1;32m   1015\u001b[0m     delimiter,\n\u001b[0;32m   (...)\u001b[0m\n\u001b[1;32m   1022\u001b[0m     dtype_backend\u001b[38;5;241m=\u001b[39mdtype_backend,\n\u001b[1;32m   1023\u001b[0m )\n\u001b[1;32m   1024\u001b[0m kwds\u001b[38;5;241m.\u001b[39mupdate(kwds_defaults)\n\u001b[0;32m-> 1026\u001b[0m \u001b[38;5;28;01mreturn\u001b[39;00m \u001b[43m_read\u001b[49m\u001b[43m(\u001b[49m\u001b[43mfilepath_or_buffer\u001b[49m\u001b[43m,\u001b[49m\u001b[43m \u001b[49m\u001b[43mkwds\u001b[49m\u001b[43m)\u001b[49m\n",
      "File \u001b[0;32m/opt/conda/lib/python3.11/site-packages/pandas/io/parsers/readers.py:620\u001b[0m, in \u001b[0;36m_read\u001b[0;34m(filepath_or_buffer, kwds)\u001b[0m\n\u001b[1;32m    617\u001b[0m _validate_names(kwds\u001b[38;5;241m.\u001b[39mget(\u001b[38;5;124m\"\u001b[39m\u001b[38;5;124mnames\u001b[39m\u001b[38;5;124m\"\u001b[39m, \u001b[38;5;28;01mNone\u001b[39;00m))\n\u001b[1;32m    619\u001b[0m \u001b[38;5;66;03m# Create the parser.\u001b[39;00m\n\u001b[0;32m--> 620\u001b[0m parser \u001b[38;5;241m=\u001b[39m \u001b[43mTextFileReader\u001b[49m\u001b[43m(\u001b[49m\u001b[43mfilepath_or_buffer\u001b[49m\u001b[43m,\u001b[49m\u001b[43m \u001b[49m\u001b[38;5;241;43m*\u001b[39;49m\u001b[38;5;241;43m*\u001b[39;49m\u001b[43mkwds\u001b[49m\u001b[43m)\u001b[49m\n\u001b[1;32m    622\u001b[0m \u001b[38;5;28;01mif\u001b[39;00m chunksize \u001b[38;5;129;01mor\u001b[39;00m iterator:\n\u001b[1;32m    623\u001b[0m     \u001b[38;5;28;01mreturn\u001b[39;00m parser\n",
      "File \u001b[0;32m/opt/conda/lib/python3.11/site-packages/pandas/io/parsers/readers.py:1620\u001b[0m, in \u001b[0;36mTextFileReader.__init__\u001b[0;34m(self, f, engine, **kwds)\u001b[0m\n\u001b[1;32m   1617\u001b[0m     \u001b[38;5;28mself\u001b[39m\u001b[38;5;241m.\u001b[39moptions[\u001b[38;5;124m\"\u001b[39m\u001b[38;5;124mhas_index_names\u001b[39m\u001b[38;5;124m\"\u001b[39m] \u001b[38;5;241m=\u001b[39m kwds[\u001b[38;5;124m\"\u001b[39m\u001b[38;5;124mhas_index_names\u001b[39m\u001b[38;5;124m\"\u001b[39m]\n\u001b[1;32m   1619\u001b[0m \u001b[38;5;28mself\u001b[39m\u001b[38;5;241m.\u001b[39mhandles: IOHandles \u001b[38;5;241m|\u001b[39m \u001b[38;5;28;01mNone\u001b[39;00m \u001b[38;5;241m=\u001b[39m \u001b[38;5;28;01mNone\u001b[39;00m\n\u001b[0;32m-> 1620\u001b[0m \u001b[38;5;28mself\u001b[39m\u001b[38;5;241m.\u001b[39m_engine \u001b[38;5;241m=\u001b[39m \u001b[38;5;28;43mself\u001b[39;49m\u001b[38;5;241;43m.\u001b[39;49m\u001b[43m_make_engine\u001b[49m\u001b[43m(\u001b[49m\u001b[43mf\u001b[49m\u001b[43m,\u001b[49m\u001b[43m \u001b[49m\u001b[38;5;28;43mself\u001b[39;49m\u001b[38;5;241;43m.\u001b[39;49m\u001b[43mengine\u001b[49m\u001b[43m)\u001b[49m\n",
      "File \u001b[0;32m/opt/conda/lib/python3.11/site-packages/pandas/io/parsers/readers.py:1880\u001b[0m, in \u001b[0;36mTextFileReader._make_engine\u001b[0;34m(self, f, engine)\u001b[0m\n\u001b[1;32m   1878\u001b[0m     \u001b[38;5;28;01mif\u001b[39;00m \u001b[38;5;124m\"\u001b[39m\u001b[38;5;124mb\u001b[39m\u001b[38;5;124m\"\u001b[39m \u001b[38;5;129;01mnot\u001b[39;00m \u001b[38;5;129;01min\u001b[39;00m mode:\n\u001b[1;32m   1879\u001b[0m         mode \u001b[38;5;241m+\u001b[39m\u001b[38;5;241m=\u001b[39m \u001b[38;5;124m\"\u001b[39m\u001b[38;5;124mb\u001b[39m\u001b[38;5;124m\"\u001b[39m\n\u001b[0;32m-> 1880\u001b[0m \u001b[38;5;28mself\u001b[39m\u001b[38;5;241m.\u001b[39mhandles \u001b[38;5;241m=\u001b[39m \u001b[43mget_handle\u001b[49m\u001b[43m(\u001b[49m\n\u001b[1;32m   1881\u001b[0m \u001b[43m    \u001b[49m\u001b[43mf\u001b[49m\u001b[43m,\u001b[49m\n\u001b[1;32m   1882\u001b[0m \u001b[43m    \u001b[49m\u001b[43mmode\u001b[49m\u001b[43m,\u001b[49m\n\u001b[1;32m   1883\u001b[0m \u001b[43m    \u001b[49m\u001b[43mencoding\u001b[49m\u001b[38;5;241;43m=\u001b[39;49m\u001b[38;5;28;43mself\u001b[39;49m\u001b[38;5;241;43m.\u001b[39;49m\u001b[43moptions\u001b[49m\u001b[38;5;241;43m.\u001b[39;49m\u001b[43mget\u001b[49m\u001b[43m(\u001b[49m\u001b[38;5;124;43m\"\u001b[39;49m\u001b[38;5;124;43mencoding\u001b[39;49m\u001b[38;5;124;43m\"\u001b[39;49m\u001b[43m,\u001b[49m\u001b[43m \u001b[49m\u001b[38;5;28;43;01mNone\u001b[39;49;00m\u001b[43m)\u001b[49m\u001b[43m,\u001b[49m\n\u001b[1;32m   1884\u001b[0m \u001b[43m    \u001b[49m\u001b[43mcompression\u001b[49m\u001b[38;5;241;43m=\u001b[39;49m\u001b[38;5;28;43mself\u001b[39;49m\u001b[38;5;241;43m.\u001b[39;49m\u001b[43moptions\u001b[49m\u001b[38;5;241;43m.\u001b[39;49m\u001b[43mget\u001b[49m\u001b[43m(\u001b[49m\u001b[38;5;124;43m\"\u001b[39;49m\u001b[38;5;124;43mcompression\u001b[39;49m\u001b[38;5;124;43m\"\u001b[39;49m\u001b[43m,\u001b[49m\u001b[43m \u001b[49m\u001b[38;5;28;43;01mNone\u001b[39;49;00m\u001b[43m)\u001b[49m\u001b[43m,\u001b[49m\n\u001b[1;32m   1885\u001b[0m \u001b[43m    \u001b[49m\u001b[43mmemory_map\u001b[49m\u001b[38;5;241;43m=\u001b[39;49m\u001b[38;5;28;43mself\u001b[39;49m\u001b[38;5;241;43m.\u001b[39;49m\u001b[43moptions\u001b[49m\u001b[38;5;241;43m.\u001b[39;49m\u001b[43mget\u001b[49m\u001b[43m(\u001b[49m\u001b[38;5;124;43m\"\u001b[39;49m\u001b[38;5;124;43mmemory_map\u001b[39;49m\u001b[38;5;124;43m\"\u001b[39;49m\u001b[43m,\u001b[49m\u001b[43m \u001b[49m\u001b[38;5;28;43;01mFalse\u001b[39;49;00m\u001b[43m)\u001b[49m\u001b[43m,\u001b[49m\n\u001b[1;32m   1886\u001b[0m \u001b[43m    \u001b[49m\u001b[43mis_text\u001b[49m\u001b[38;5;241;43m=\u001b[39;49m\u001b[43mis_text\u001b[49m\u001b[43m,\u001b[49m\n\u001b[1;32m   1887\u001b[0m \u001b[43m    \u001b[49m\u001b[43merrors\u001b[49m\u001b[38;5;241;43m=\u001b[39;49m\u001b[38;5;28;43mself\u001b[39;49m\u001b[38;5;241;43m.\u001b[39;49m\u001b[43moptions\u001b[49m\u001b[38;5;241;43m.\u001b[39;49m\u001b[43mget\u001b[49m\u001b[43m(\u001b[49m\u001b[38;5;124;43m\"\u001b[39;49m\u001b[38;5;124;43mencoding_errors\u001b[39;49m\u001b[38;5;124;43m\"\u001b[39;49m\u001b[43m,\u001b[49m\u001b[43m \u001b[49m\u001b[38;5;124;43m\"\u001b[39;49m\u001b[38;5;124;43mstrict\u001b[39;49m\u001b[38;5;124;43m\"\u001b[39;49m\u001b[43m)\u001b[49m\u001b[43m,\u001b[49m\n\u001b[1;32m   1888\u001b[0m \u001b[43m    \u001b[49m\u001b[43mstorage_options\u001b[49m\u001b[38;5;241;43m=\u001b[39;49m\u001b[38;5;28;43mself\u001b[39;49m\u001b[38;5;241;43m.\u001b[39;49m\u001b[43moptions\u001b[49m\u001b[38;5;241;43m.\u001b[39;49m\u001b[43mget\u001b[49m\u001b[43m(\u001b[49m\u001b[38;5;124;43m\"\u001b[39;49m\u001b[38;5;124;43mstorage_options\u001b[39;49m\u001b[38;5;124;43m\"\u001b[39;49m\u001b[43m,\u001b[49m\u001b[43m \u001b[49m\u001b[38;5;28;43;01mNone\u001b[39;49;00m\u001b[43m)\u001b[49m\u001b[43m,\u001b[49m\n\u001b[1;32m   1889\u001b[0m \u001b[43m\u001b[49m\u001b[43m)\u001b[49m\n\u001b[1;32m   1890\u001b[0m \u001b[38;5;28;01massert\u001b[39;00m \u001b[38;5;28mself\u001b[39m\u001b[38;5;241m.\u001b[39mhandles \u001b[38;5;129;01mis\u001b[39;00m \u001b[38;5;129;01mnot\u001b[39;00m \u001b[38;5;28;01mNone\u001b[39;00m\n\u001b[1;32m   1891\u001b[0m f \u001b[38;5;241m=\u001b[39m \u001b[38;5;28mself\u001b[39m\u001b[38;5;241m.\u001b[39mhandles\u001b[38;5;241m.\u001b[39mhandle\n",
      "File \u001b[0;32m/opt/conda/lib/python3.11/site-packages/pandas/io/common.py:873\u001b[0m, in \u001b[0;36mget_handle\u001b[0;34m(path_or_buf, mode, encoding, compression, memory_map, is_text, errors, storage_options)\u001b[0m\n\u001b[1;32m    868\u001b[0m \u001b[38;5;28;01melif\u001b[39;00m \u001b[38;5;28misinstance\u001b[39m(handle, \u001b[38;5;28mstr\u001b[39m):\n\u001b[1;32m    869\u001b[0m     \u001b[38;5;66;03m# Check whether the filename is to be opened in binary mode.\u001b[39;00m\n\u001b[1;32m    870\u001b[0m     \u001b[38;5;66;03m# Binary mode does not support 'encoding' and 'newline'.\u001b[39;00m\n\u001b[1;32m    871\u001b[0m     \u001b[38;5;28;01mif\u001b[39;00m ioargs\u001b[38;5;241m.\u001b[39mencoding \u001b[38;5;129;01mand\u001b[39;00m \u001b[38;5;124m\"\u001b[39m\u001b[38;5;124mb\u001b[39m\u001b[38;5;124m\"\u001b[39m \u001b[38;5;129;01mnot\u001b[39;00m \u001b[38;5;129;01min\u001b[39;00m ioargs\u001b[38;5;241m.\u001b[39mmode:\n\u001b[1;32m    872\u001b[0m         \u001b[38;5;66;03m# Encoding\u001b[39;00m\n\u001b[0;32m--> 873\u001b[0m         handle \u001b[38;5;241m=\u001b[39m \u001b[38;5;28;43mopen\u001b[39;49m\u001b[43m(\u001b[49m\n\u001b[1;32m    874\u001b[0m \u001b[43m            \u001b[49m\u001b[43mhandle\u001b[49m\u001b[43m,\u001b[49m\n\u001b[1;32m    875\u001b[0m \u001b[43m            \u001b[49m\u001b[43mioargs\u001b[49m\u001b[38;5;241;43m.\u001b[39;49m\u001b[43mmode\u001b[49m\u001b[43m,\u001b[49m\n\u001b[1;32m    876\u001b[0m \u001b[43m            \u001b[49m\u001b[43mencoding\u001b[49m\u001b[38;5;241;43m=\u001b[39;49m\u001b[43mioargs\u001b[49m\u001b[38;5;241;43m.\u001b[39;49m\u001b[43mencoding\u001b[49m\u001b[43m,\u001b[49m\n\u001b[1;32m    877\u001b[0m \u001b[43m            \u001b[49m\u001b[43merrors\u001b[49m\u001b[38;5;241;43m=\u001b[39;49m\u001b[43merrors\u001b[49m\u001b[43m,\u001b[49m\n\u001b[1;32m    878\u001b[0m \u001b[43m            \u001b[49m\u001b[43mnewline\u001b[49m\u001b[38;5;241;43m=\u001b[39;49m\u001b[38;5;124;43m\"\u001b[39;49m\u001b[38;5;124;43m\"\u001b[39;49m\u001b[43m,\u001b[49m\n\u001b[1;32m    879\u001b[0m \u001b[43m        \u001b[49m\u001b[43m)\u001b[49m\n\u001b[1;32m    880\u001b[0m     \u001b[38;5;28;01melse\u001b[39;00m:\n\u001b[1;32m    881\u001b[0m         \u001b[38;5;66;03m# Binary mode\u001b[39;00m\n\u001b[1;32m    882\u001b[0m         handle \u001b[38;5;241m=\u001b[39m \u001b[38;5;28mopen\u001b[39m(handle, ioargs\u001b[38;5;241m.\u001b[39mmode)\n",
      "\u001b[0;31mFileNotFoundError\u001b[0m: [Errno 2] No such file or directory: '/home/jovyan/data_science_project/data/yellow_tripdata_2024-01.csv'"
     ]
    }
   ],
   "source": [
    "taxi_dataframe = pd.read_csv('/home/jovyan/data_science_project/data/yellow_tripdata_2024-01.csv', low_memory=False)\n",
    "taxi_dataframe"
   ]
  },
  {
   "cell_type": "markdown",
   "id": "235b9879-e40d-473e-a2f8-3fcd0c7671eb",
   "metadata": {},
   "source": [
    "# Transform data"
   ]
  },
  {
   "cell_type": "markdown",
   "id": "96fe3eeb-8521-408b-a252-05033ddca983",
   "metadata": {},
   "source": [
    "### Cambiamos el tipo de datos de las columnas de fecha"
   ]
  },
  {
   "cell_type": "code",
   "execution_count": null,
   "id": "0253adb3-d244-4b76-abfa-039549a243f2",
   "metadata": {},
   "outputs": [
    {
     "ename": "",
     "evalue": "",
     "output_type": "error",
     "traceback": [
      "\u001b[1;31mRunning cells with 'Python 3.12.5' requires the ipykernel package.\n",
      "\u001b[1;31mRun the following command to install 'ipykernel' into the Python environment. \n",
      "\u001b[1;31mCommand: 'c:/Users/dario.maroto/AppData/Local/Microsoft/WindowsApps/python3.12.exe -m pip install ipykernel -U --user --force-reinstall'"
     ]
    }
   ],
   "source": [
    "taxi_dataframe['tpep_pickup_datetime'] = taxi_dataframe['tpep_pickup_datetime'].astype(\"datetime64[ns]\")\n",
    "taxi_dataframe['tpep_dropoff_datetime'] = taxi_dataframe['tpep_dropoff_datetime'].astype(\"datetime64[ns]\")\n",
    "taxi_dataframe.dtypes"
   ]
  },
  {
   "cell_type": "markdown",
   "id": "9a4566b7-8c4b-4659-8cae-3eeceb42eea9",
   "metadata": {},
   "source": [
    "Eligiendo las columnas en las que estamos interesados"
   ]
  },
  {
   "cell_type": "code",
   "execution_count": null,
   "id": "b09b24fc-c250-46b9-be13-d253f6b5c98f",
   "metadata": {},
   "outputs": [
    {
     "ename": "",
     "evalue": "",
     "output_type": "error",
     "traceback": [
      "\u001b[1;31mRunning cells with 'Python 3.12.5' requires the ipykernel package.\n",
      "\u001b[1;31mRun the following command to install 'ipykernel' into the Python environment. \n",
      "\u001b[1;31mCommand: 'c:/Users/dario.maroto/AppData/Local/Microsoft/WindowsApps/python3.12.exe -m pip install ipykernel -U --user --force-reinstall'"
     ]
    }
   ],
   "source": [
    "taxi_dataframe = taxi_dataframe[['tpep_pickup_datetime', 'tpep_dropoff_datetime', 'trip_distance', 'RatecodeID', 'PULocationID', 'DOLocationID', 'payment_type', 'total_amount']]"
   ]
  },
  {
   "cell_type": "code",
   "execution_count": null,
   "id": "5ee2bd0f-ec22-4cb9-886b-1269ddfa353c",
   "metadata": {},
   "outputs": [
    {
     "ename": "",
     "evalue": "",
     "output_type": "error",
     "traceback": [
      "\u001b[1;31mRunning cells with 'Python 3.12.5' requires the ipykernel package.\n",
      "\u001b[1;31mRun the following command to install 'ipykernel' into the Python environment. \n",
      "\u001b[1;31mCommand: 'c:/Users/dario.maroto/AppData/Local/Microsoft/WindowsApps/python3.12.exe -m pip install ipykernel -U --user --force-reinstall'"
     ]
    }
   ],
   "source": [
    "taxi_dataframe.head()"
   ]
  },
  {
   "cell_type": "markdown",
   "id": "c46963c6-8128-4ff4-b837-74272f8f1943",
   "metadata": {},
   "source": [
    "#### Observamos los datos de manera gráfica para detectar problemas"
   ]
  },
  {
   "cell_type": "code",
   "execution_count": null,
   "id": "a99c2407-e97e-47e2-b089-03ce98b096d5",
   "metadata": {
    "scrolled": true
   },
   "outputs": [
    {
     "ename": "",
     "evalue": "",
     "output_type": "error",
     "traceback": [
      "\u001b[1;31mRunning cells with 'Python 3.12.5' requires the ipykernel package.\n",
      "\u001b[1;31mRun the following command to install 'ipykernel' into the Python environment. \n",
      "\u001b[1;31mCommand: 'c:/Users/dario.maroto/AppData/Local/Microsoft/WindowsApps/python3.12.exe -m pip install ipykernel -U --user --force-reinstall'"
     ]
    }
   ],
   "source": [
    "taxi_dataframe.hist(figsize=(30,20), bins=60)"
   ]
  },
  {
   "cell_type": "markdown",
   "id": "2f584292-7194-4906-b532-28fbe7091d23",
   "metadata": {},
   "source": [
    "There are columns that need some fixing:\n",
    "- RatecodeID column, according to the pdf, only have six possible ID's\n",
    "- Negative values in total_amount\n",
    "- Years that are not 2024 and months different from january"
   ]
  },
  {
   "cell_type": "code",
   "execution_count": null,
   "id": "2d34898d-4338-4456-a833-041706e62f48",
   "metadata": {},
   "outputs": [
    {
     "ename": "",
     "evalue": "",
     "output_type": "error",
     "traceback": [
      "\u001b[1;31mRunning cells with 'Python 3.12.5' requires the ipykernel package.\n",
      "\u001b[1;31mRun the following command to install 'ipykernel' into the Python environment. \n",
      "\u001b[1;31mCommand: 'c:/Users/dario.maroto/AppData/Local/Microsoft/WindowsApps/python3.12.exe -m pip install ipykernel -U --user --force-reinstall'"
     ]
    }
   ],
   "source": [
    "taxi_dataframe['RatecodeID'].value_counts()"
   ]
  },
  {
   "cell_type": "markdown",
   "id": "a6999464-feb8-4ff1-9c39-30ab2e325108",
   "metadata": {},
   "source": [
    "Se ha marcado el número 99 unas 28663 veces como final rate code."
   ]
  },
  {
   "cell_type": "markdown",
   "id": "c04598fd-a569-4d06-ab98-67b2bc2a3fe6",
   "metadata": {},
   "source": [
    "Tamaño total del dataframe (columnas * filas)"
   ]
  },
  {
   "cell_type": "code",
   "execution_count": null,
   "id": "0a6805e7-a9fb-4972-80ce-8da15fd3206f",
   "metadata": {},
   "outputs": [
    {
     "ename": "",
     "evalue": "",
     "output_type": "error",
     "traceback": [
      "\u001b[1;31mRunning cells with 'Python 3.12.5' requires the ipykernel package.\n",
      "\u001b[1;31mRun the following command to install 'ipykernel' into the Python environment. \n",
      "\u001b[1;31mCommand: 'c:/Users/dario.maroto/AppData/Local/Microsoft/WindowsApps/python3.12.exe -m pip install ipykernel -U --user --force-reinstall'"
     ]
    }
   ],
   "source": [
    "taxi_dataframe.size"
   ]
  },
  {
   "cell_type": "markdown",
   "id": "f1ddb4d2-0ff7-43d7-b182-cee390c57956",
   "metadata": {},
   "source": [
    "#### Cantidad de datos erroneos en la columna RatecodeID"
   ]
  },
  {
   "cell_type": "code",
   "execution_count": null,
   "id": "b4370ab6-6933-4ced-8110-73d0b12177ce",
   "metadata": {},
   "outputs": [
    {
     "ename": "",
     "evalue": "",
     "output_type": "error",
     "traceback": [
      "\u001b[1;31mRunning cells with 'Python 3.12.5' requires the ipykernel package.\n",
      "\u001b[1;31mRun the following command to install 'ipykernel' into the Python environment. \n",
      "\u001b[1;31mCommand: 'c:/Users/dario.maroto/AppData/Local/Microsoft/WindowsApps/python3.12.exe -m pip install ipykernel -U --user --force-reinstall'"
     ]
    }
   ],
   "source": [
    "wrong_ratecode = taxi_dataframe[taxi_dataframe['RatecodeID'] > 6].size\n",
    "total_data = taxi_dataframe.size\n",
    "\n",
    "wrong_ratecode_percent = (wrong_ratecode / total_data) * 100\n",
    "print(f'Número de campos erroneos en ratecode: {wrong_ratecode} \\nPorcentaje de errores en ratecode sobre el total de datos: {wrong_ratecode_percent:.2f}%')"
   ]
  },
  {
   "cell_type": "markdown",
   "id": "df9f4cb3-97d3-4be0-8377-34c9e4bd27ac",
   "metadata": {},
   "source": [
    "#### Veamos los datos nulos"
   ]
  },
  {
   "cell_type": "code",
   "execution_count": null,
   "id": "0ca17f73-cb63-4254-aa8f-14bfc806383c",
   "metadata": {},
   "outputs": [
    {
     "ename": "",
     "evalue": "",
     "output_type": "error",
     "traceback": [
      "\u001b[1;31mRunning cells with 'Python 3.12.5' requires the ipykernel package.\n",
      "\u001b[1;31mRun the following command to install 'ipykernel' into the Python environment. \n",
      "\u001b[1;31mCommand: 'c:/Users/dario.maroto/AppData/Local/Microsoft/WindowsApps/python3.12.exe -m pip install ipykernel -U --user --force-reinstall'"
     ]
    }
   ],
   "source": [
    "null_data = taxi_dataframe.isnull().sum().sum()\n",
    "print(taxi_dataframe.isnull().sum())\n",
    "\n",
    "null_percent = (null_data / total_data) * 100\n",
    "print(f'Número de campos nulos: {null_data} \\nPorcentaje de campos nulos sobre el total de datos: {null_percent:.2f}%')"
   ]
  },
  {
   "cell_type": "markdown",
   "id": "36a82e74-074a-4d2a-b025-cb60a84a5890",
   "metadata": {},
   "source": [
    "Todos los datos nulos están en la columna RatecodeID"
   ]
  },
  {
   "cell_type": "code",
   "execution_count": null,
   "id": "df83d07a-1ae9-4430-a3b6-4fd4f716993a",
   "metadata": {},
   "outputs": [
    {
     "ename": "",
     "evalue": "",
     "output_type": "error",
     "traceback": [
      "\u001b[1;31mRunning cells with 'Python 3.12.5' requires the ipykernel package.\n",
      "\u001b[1;31mRun the following command to install 'ipykernel' into the Python environment. \n",
      "\u001b[1;31mCommand: 'c:/Users/dario.maroto/AppData/Local/Microsoft/WindowsApps/python3.12.exe -m pip install ipykernel -U --user --force-reinstall'"
     ]
    }
   ],
   "source": [
    "wrong_ratecode_data = wrong_ratecode_percent + null_percent\n",
    "column_data = taxi_dataframe['RatecodeID'].count()\n",
    "\n",
    "print(f'Total de datos incorrectos: {wrong_ratecode + null_data}')\n",
    "print(f'Total sobre la columna: {(((wrong_ratecode + null_data) / column_data) * 100):.2f}%')\n",
    "\n",
    "f'Porcentaje total de datos incorrectos en RatecodeID sobre el total: {wrong_ratecode_data:.2f}'"
   ]
  },
  {
   "cell_type": "markdown",
   "id": "bdb518ca-fb41-434b-a4f8-1a6a47aadee0",
   "metadata": {},
   "source": [
    "#### Valores negativos en la columna total_amount."
   ]
  },
  {
   "cell_type": "code",
   "execution_count": null,
   "id": "e400db09-c80f-4f31-abbe-64a7c105ed4c",
   "metadata": {},
   "outputs": [
    {
     "ename": "",
     "evalue": "",
     "output_type": "error",
     "traceback": [
      "\u001b[1;31mRunning cells with 'Python 3.12.5' requires the ipykernel package.\n",
      "\u001b[1;31mRun the following command to install 'ipykernel' into the Python environment. \n",
      "\u001b[1;31mCommand: 'c:/Users/dario.maroto/AppData/Local/Microsoft/WindowsApps/python3.12.exe -m pip install ipykernel -U --user --force-reinstall'"
     ]
    }
   ],
   "source": [
    "negative_values = taxi_dataframe[taxi_dataframe['total_amount'] < 0]['total_amount']\n",
    "num_negative_values = negative_values.count()\n",
    "negative_values_percent = (num_negative_values / total_data) * 100\n",
    "\n",
    "column_data = taxi_dataframe['total_amount'].count()\n",
    "print(column_data)\n",
    "negative_values_column = (num_negative_values / column_data) * 100\n",
    "\n",
    "print(f\"Porcentaje de valores negativos en 'total_amount' sobre el total del DataFrame: {negative_values_percent:.2f}%\")\n",
    "print(f\"Porcentaje de valores negativos en 'total_amount' sobre la columna: {negative_values_column:.2f}%\")"
   ]
  },
  {
   "cell_type": "code",
   "execution_count": null,
   "id": "6813b998-fabc-4e0c-942b-1923a21de091",
   "metadata": {},
   "outputs": [
    {
     "ename": "",
     "evalue": "",
     "output_type": "error",
     "traceback": [
      "\u001b[1;31mRunning cells with 'Python 3.12.5' requires the ipykernel package.\n",
      "\u001b[1;31mRun the following command to install 'ipykernel' into the Python environment. \n",
      "\u001b[1;31mCommand: 'c:/Users/dario.maroto/AppData/Local/Microsoft/WindowsApps/python3.12.exe -m pip install ipykernel -U --user --force-reinstall'"
     ]
    }
   ],
   "source": [
    "taxi_dataframe.dtypes"
   ]
  },
  {
   "cell_type": "markdown",
   "id": "0d076f08-4fbe-448c-bbd4-98ca5a5550c2",
   "metadata": {},
   "source": [
    "Procedo a eliminar los datos erroneos de RatecodeID, borrar los datos negativos de la columna total_amount y quitar los campos nulos."
   ]
  },
  {
   "cell_type": "code",
   "execution_count": null,
   "id": "feca98ed-fbff-4d46-be3e-b5e78558eca6",
   "metadata": {},
   "outputs": [
    {
     "ename": "",
     "evalue": "",
     "output_type": "error",
     "traceback": [
      "\u001b[1;31mRunning cells with 'Python 3.12.5' requires the ipykernel package.\n",
      "\u001b[1;31mRun the following command to install 'ipykernel' into the Python environment. \n",
      "\u001b[1;31mCommand: 'c:/Users/dario.maroto/AppData/Local/Microsoft/WindowsApps/python3.12.exe -m pip install ipykernel -U --user --force-reinstall'"
     ]
    }
   ],
   "source": [
    "taxi_dataframe_filtered = taxi_dataframe[(taxi_dataframe['RatecodeID'] <= 6) & (taxi_dataframe['total_amount'] > 0)]\n",
    "\n",
    "taxi_dataframe_filtered = taxi_dataframe_filtered.dropna()\n",
    "\n",
    "print('''Comprobamos que se han limpiado los datos''')\n",
    "print(taxi_dataframe_filtered['RatecodeID'].value_counts())\n",
    "print('''Datos negativos en total_amount''')\n",
    "print(taxi_dataframe_filtered[taxi_dataframe_filtered['total_amount'] < 0].shape)\n",
    "print(f'Campos nulos: \\n{taxi_dataframe_filtered.isnull().sum()}')"
   ]
  },
  {
   "cell_type": "code",
   "execution_count": null,
   "id": "78247ce5-b4b8-42ec-ad1c-f212bafab224",
   "metadata": {},
   "outputs": [
    {
     "ename": "",
     "evalue": "",
     "output_type": "error",
     "traceback": [
      "\u001b[1;31mRunning cells with 'Python 3.12.5' requires the ipykernel package.\n",
      "\u001b[1;31mRun the following command to install 'ipykernel' into the Python environment. \n",
      "\u001b[1;31mCommand: 'c:/Users/dario.maroto/AppData/Local/Microsoft/WindowsApps/python3.12.exe -m pip install ipykernel -U --user --force-reinstall'"
     ]
    }
   ],
   "source": [
    "print(f'Datos originales: {taxi_dataframe.shape}')\n",
    "\n",
    "print(f'Datos filtrados: {taxi_dataframe_filtered.shape}')"
   ]
  },
  {
   "cell_type": "code",
   "execution_count": null,
   "id": "2ca85d6e-b898-4669-929d-6a41c3d78109",
   "metadata": {
    "scrolled": true
   },
   "outputs": [
    {
     "ename": "",
     "evalue": "",
     "output_type": "error",
     "traceback": [
      "\u001b[1;31mRunning cells with 'Python 3.12.5' requires the ipykernel package.\n",
      "\u001b[1;31mRun the following command to install 'ipykernel' into the Python environment. \n",
      "\u001b[1;31mCommand: 'c:/Users/dario.maroto/AppData/Local/Microsoft/WindowsApps/python3.12.exe -m pip install ipykernel -U --user --force-reinstall'"
     ]
    }
   ],
   "source": [
    "taxi_dataframe_filtered.dtypes"
   ]
  },
  {
   "cell_type": "markdown",
   "id": "98aa9c4a-24e4-434b-95b8-62e500fb4ae2",
   "metadata": {},
   "source": [
    "Las columnas RatecodeID, PULocationID, DOLocationID, payment type las podemos cambiar a un tipo diferente de númerico ya que por ejemplo RatecodeID y paymen_type se refieren a la tarifa aplicada al final del viaje representada numericamente y de manera similar con el payment_type que se refiere a la forma de pago.\n",
    "Las columnas de Location se refieren a zonas o barrios, así que no son datos numericos perse."
   ]
  },
  {
   "cell_type": "code",
   "execution_count": null,
   "id": "909abcfa-6847-4385-89fd-3455e8937a47",
   "metadata": {},
   "outputs": [
    {
     "ename": "",
     "evalue": "",
     "output_type": "error",
     "traceback": [
      "\u001b[1;31mRunning cells with 'Python 3.12.5' requires the ipykernel package.\n",
      "\u001b[1;31mRun the following command to install 'ipykernel' into the Python environment. \n",
      "\u001b[1;31mCommand: 'c:/Users/dario.maroto/AppData/Local/Microsoft/WindowsApps/python3.12.exe -m pip install ipykernel -U --user --force-reinstall'"
     ]
    }
   ],
   "source": [
    "for column in taxi_dataframe_filtered.columns:\n",
    "    if 'ID' in column or 'payment_type' in column:\n",
    "        taxi_dataframe_filtered.loc[:,column] = taxi_dataframe_filtered[column].astype('str')\n"
   ]
  },
  {
   "cell_type": "code",
   "execution_count": null,
   "id": "5a8419b3-d601-41fe-879e-a0f8ab6c3410",
   "metadata": {},
   "outputs": [
    {
     "ename": "",
     "evalue": "",
     "output_type": "error",
     "traceback": [
      "\u001b[1;31mRunning cells with 'Python 3.12.5' requires the ipykernel package.\n",
      "\u001b[1;31mRun the following command to install 'ipykernel' into the Python environment. \n",
      "\u001b[1;31mCommand: 'c:/Users/dario.maroto/AppData/Local/Microsoft/WindowsApps/python3.12.exe -m pip install ipykernel -U --user --force-reinstall'"
     ]
    }
   ],
   "source": [
    "taxi_dataframe_filtered.dtypes"
   ]
  },
  {
   "cell_type": "code",
   "execution_count": null,
   "id": "ff982e40-4886-453a-81ed-010cdb5c797b",
   "metadata": {},
   "outputs": [
    {
     "ename": "",
     "evalue": "",
     "output_type": "error",
     "traceback": [
      "\u001b[1;31mRunning cells with 'Python 3.12.5' requires the ipykernel package.\n",
      "\u001b[1;31mRun the following command to install 'ipykernel' into the Python environment. \n",
      "\u001b[1;31mCommand: 'c:/Users/dario.maroto/AppData/Local/Microsoft/WindowsApps/python3.12.exe -m pip install ipykernel -U --user --force-reinstall'"
     ]
    }
   ],
   "source": [
    "taxi_dataframe_filtered"
   ]
  },
  {
   "cell_type": "markdown",
   "id": "fd6a2bc4-2d2f-4218-9844-8ae6f5932d97",
   "metadata": {},
   "source": [
    "#### Volvemos a ver los gráficos de datos"
   ]
  },
  {
   "cell_type": "code",
   "execution_count": null,
   "id": "d6d4d372-e00d-417a-9fe7-33a0ab66d1da",
   "metadata": {},
   "outputs": [
    {
     "ename": "",
     "evalue": "",
     "output_type": "error",
     "traceback": [
      "\u001b[1;31mRunning cells with 'Python 3.12.5' requires the ipykernel package.\n",
      "\u001b[1;31mRun the following command to install 'ipykernel' into the Python environment. \n",
      "\u001b[1;31mCommand: 'c:/Users/dario.maroto/AppData/Local/Microsoft/WindowsApps/python3.12.exe -m pip install ipykernel -U --user --force-reinstall'"
     ]
    }
   ],
   "source": [
    "taxi_dataframe_filtered.hist(figsize=(30,20), bins=60)"
   ]
  },
  {
   "cell_type": "markdown",
   "id": "6dcc93df-71c2-43c2-94ec-877c9edff859",
   "metadata": {},
   "source": [
    "### Se puede ver que aún hay problemas con los datos\n",
    "\n",
    "Hay años diferentes a 2024 y meses diferentes a enero"
   ]
  },
  {
   "cell_type": "code",
   "execution_count": null,
   "id": "f4a820b7-c2b3-494f-9208-b80defd10cdf",
   "metadata": {},
   "outputs": [
    {
     "ename": "",
     "evalue": "",
     "output_type": "error",
     "traceback": [
      "\u001b[1;31mRunning cells with 'Python 3.12.5' requires the ipykernel package.\n",
      "\u001b[1;31mRun the following command to install 'ipykernel' into the Python environment. \n",
      "\u001b[1;31mCommand: 'c:/Users/dario.maroto/AppData/Local/Microsoft/WindowsApps/python3.12.exe -m pip install ipykernel -U --user --force-reinstall'"
     ]
    }
   ],
   "source": [
    "not_2024 = taxi_dataframe_filtered.loc[\n",
    "  taxi_dataframe_filtered['tpep_pickup_datetime'].dt.year < 2024, ['tpep_pickup_datetime', 'tpep_dropoff_datetime']\n",
    "  ]\n",
    "\n",
    "not_january = taxi_dataframe_filtered.loc[\n",
    "  taxi_dataframe_filtered['tpep_pickup_datetime'].dt.month > 1, \n",
    "  ['tpep_pickup_datetime', 'tpep_dropoff_datetime']\n",
    "  ]\n",
    "\n",
    "print(f\"Años diferentes a 2024: \\n {not_2024} \\n\")\n",
    "\n",
    "print(f\"Meses distintos de enero: \\n{not_january} \\n\")"
   ]
  },
  {
   "cell_type": "markdown",
   "id": "d758b7ce-9560-41b5-b2e7-703873a54517",
   "metadata": {},
   "source": [
    "### Queremos datos exclusivamente de 2024 y del mes de enero.\n",
    "He creado una nueva variable \"taxi_data_prep\" que va a contener el nuevo DataFrame sin años menores a 2024 o meses diferentes a enero"
   ]
  },
  {
   "cell_type": "code",
   "execution_count": null,
   "id": "b6a486cc-060a-41da-b867-da0f495f3411",
   "metadata": {},
   "outputs": [
    {
     "ename": "",
     "evalue": "",
     "output_type": "error",
     "traceback": [
      "\u001b[1;31mRunning cells with 'Python 3.12.5' requires the ipykernel package.\n",
      "\u001b[1;31mRun the following command to install 'ipykernel' into the Python environment. \n",
      "\u001b[1;31mCommand: 'c:/Users/dario.maroto/AppData/Local/Microsoft/WindowsApps/python3.12.exe -m pip install ipykernel -U --user --force-reinstall'"
     ]
    }
   ],
   "source": [
    "taxi_data_prep = taxi_dataframe_filtered.drop(\n",
    "  taxi_dataframe_filtered[\n",
    "  (taxi_dataframe_filtered['tpep_pickup_datetime'].dt.year != 2024)\n",
    "  ].index)\n",
    "\n",
    "taxi_data_prep = taxi_data_prep.drop(\n",
    "  taxi_data_prep[\n",
    "    (taxi_data_prep['tpep_pickup_datetime'].dt.month > 1) |\n",
    "    (taxi_dataframe_filtered['tpep_dropoff_datetime'].dt.month > 1)\n",
    "    ].index)\n",
    "\n",
    "print('Viajes que inician en un mes diferente a enero')\n",
    "print(taxi_data_prep.loc[\n",
    "  ((taxi_data_prep['tpep_pickup_datetime'].dt.month > 1) &\n",
    "    (taxi_dataframe_filtered['tpep_dropoff_datetime'].dt.month > 1)),\n",
    "  ['tpep_pickup_datetime', 'tpep_dropoff_datetime']\n",
    "  ])\n",
    "\n",
    "print('Años diferentes de 2024')\n",
    "print(taxi_data_prep.loc[\n",
    "  (taxi_data_prep['tpep_pickup_datetime'].dt.year != 2024), \n",
    "  # &(taxi_dataframe_filtered['tpep_pickup_datetime'].dt.month > 1),\n",
    "  ['tpep_pickup_datetime', 'tpep_dropoff_datetime']\n",
    "  ])"
   ]
  },
  {
   "cell_type": "markdown",
   "id": "a03bccba",
   "metadata": {},
   "source": [
    "#### Datos trip_distance y total_amount no concordantes.\n",
    "Hay datos en ambas columnas que son absurdos y no correlacionan.\n",
    "Vamos a limpiar esos datos"
   ]
  },
  {
   "cell_type": "code",
   "execution_count": null,
   "id": "939d31a0",
   "metadata": {},
   "outputs": [
    {
     "ename": "",
     "evalue": "",
     "output_type": "error",
     "traceback": [
      "\u001b[1;31mRunning cells with 'Python 3.12.5' requires the ipykernel package.\n",
      "\u001b[1;31mRun the following command to install 'ipykernel' into the Python environment. \n",
      "\u001b[1;31mCommand: 'c:/Users/dario.maroto/AppData/Local/Microsoft/WindowsApps/python3.12.exe -m pip install ipykernel -U --user --force-reinstall'"
     ]
    }
   ],
   "source": [
    "taxi_data_prep.loc[\n",
    "  (taxi_data_prep['trip_distance'] > 250) | (taxi_data_prep['total_amount'] > 200)\n",
    "  ]"
   ]
  },
  {
   "cell_type": "code",
   "execution_count": null,
   "id": "89378a56",
   "metadata": {},
   "outputs": [
    {
     "ename": "",
     "evalue": "",
     "output_type": "error",
     "traceback": [
      "\u001b[1;31mRunning cells with 'Python 3.12.5' requires the ipykernel package.\n",
      "\u001b[1;31mRun the following command to install 'ipykernel' into the Python environment. \n",
      "\u001b[1;31mCommand: 'c:/Users/dario.maroto/AppData/Local/Microsoft/WindowsApps/python3.12.exe -m pip install ipykernel -U --user --force-reinstall'"
     ]
    }
   ],
   "source": [
    "taxi_data_prep = taxi_data_prep.drop(\n",
    "  taxi_data_prep[\n",
    "  (taxi_data_prep['trip_distance'] > 250) | \n",
    "  (taxi_data_prep['trip_distance'] == 0.0)\n",
    "  ].index)\n",
    "\n",
    "taxi_data_prep.loc[(taxi_data_prep['trip_distance'] > 250) | \n",
    "  (taxi_data_prep['trip_distance'] == 0.0)]"
   ]
  },
  {
   "cell_type": "code",
   "execution_count": null,
   "id": "61d1a9af",
   "metadata": {},
   "outputs": [
    {
     "ename": "",
     "evalue": "",
     "output_type": "error",
     "traceback": [
      "\u001b[1;31mRunning cells with 'Python 3.12.5' requires the ipykernel package.\n",
      "\u001b[1;31mRun the following command to install 'ipykernel' into the Python environment. \n",
      "\u001b[1;31mCommand: 'c:/Users/dario.maroto/AppData/Local/Microsoft/WindowsApps/python3.12.exe -m pip install ipykernel -U --user --force-reinstall'"
     ]
    }
   ],
   "source": [
    "taxi_data_prep.loc[\n",
    "  (taxi_data_prep['trip_distance'] > 250) | (taxi_data_prep['total_amount'] > 200)\n",
    "  ].value_counts()"
   ]
  },
  {
   "cell_type": "markdown",
   "id": "8c0e9e88-515d-42d2-9855-e37fd000867f",
   "metadata": {},
   "source": [
    "### Calcular el promedio de gasto del mes de enero"
   ]
  },
  {
   "cell_type": "code",
   "execution_count": null,
   "id": "856ccc90-c8b7-46d0-b338-51ff0671ec2a",
   "metadata": {},
   "outputs": [
    {
     "ename": "",
     "evalue": "",
     "output_type": "error",
     "traceback": [
      "\u001b[1;31mRunning cells with 'Python 3.12.5' requires the ipykernel package.\n",
      "\u001b[1;31mRun the following command to install 'ipykernel' into the Python environment. \n",
      "\u001b[1;31mCommand: 'c:/Users/dario.maroto/AppData/Local/Microsoft/WindowsApps/python3.12.exe -m pip install ipykernel -U --user --force-reinstall'"
     ]
    }
   ],
   "source": [
    "average_spent_january = taxi_data_prep['total_amount'].mean()\n",
    "print(f'Media de gasto en el mes de enero: {average_spent_january:.2f}')\n",
    "\n",
    "mode_january = taxi_data_prep['total_amount'].mode().to_string()\n",
    "\n",
    "print(f'El gasto que más aparece en el mes de enero: {mode_january[-4:]}')"
   ]
  },
  {
   "cell_type": "markdown",
   "id": "88c0cea6-ac25-423d-8aef-52a81bc71ea1",
   "metadata": {},
   "source": [
    "### Calcular el promedio por día"
   ]
  },
  {
   "cell_type": "code",
   "execution_count": null,
   "id": "6c381f6d-16fb-4b90-9db4-2b1144b22ffb",
   "metadata": {},
   "outputs": [
    {
     "ename": "",
     "evalue": "",
     "output_type": "error",
     "traceback": [
      "\u001b[1;31mRunning cells with 'Python 3.12.5' requires the ipykernel package.\n",
      "\u001b[1;31mRun the following command to install 'ipykernel' into the Python environment. \n",
      "\u001b[1;31mCommand: 'c:/Users/dario.maroto/AppData/Local/Microsoft/WindowsApps/python3.12.exe -m pip install ipykernel -U --user --force-reinstall'"
     ]
    }
   ],
   "source": [
    "daily_totals = taxi_data_prep.groupby(taxi_data_prep['tpep_pickup_datetime'].dt.day)['total_amount'].mean()\n",
    "\n",
    "# Calcular el número de días en enero\n",
    "num_days = len(daily_totals)\n",
    "print(num_days)\n",
    "\n",
    "# Calcular el gasto promedio diario\n",
    "average_daily_spent = daily_totals.mean()\n",
    "print(f\"El gasto promedio diario en enero de 2024 es: {average_daily_spent:.2f}\")"
   ]
  },
  {
   "cell_type": "markdown",
   "id": "e2bcdc8d-f40e-41c2-bd57-63f9a8518447",
   "metadata": {},
   "source": [
    "# TODO: El pickup location se puede dejar como númerico y con mode se puede ver qué zona se repite más"
   ]
  },
  {
   "cell_type": "code",
   "execution_count": null,
   "id": "58706e45",
   "metadata": {},
   "outputs": [
    {
     "ename": "",
     "evalue": "",
     "output_type": "error",
     "traceback": [
      "\u001b[1;31mRunning cells with 'Python 3.12.5' requires the ipykernel package.\n",
      "\u001b[1;31mRun the following command to install 'ipykernel' into the Python environment. \n",
      "\u001b[1;31mCommand: 'c:/Users/dario.maroto/AppData/Local/Microsoft/WindowsApps/python3.12.exe -m pip install ipykernel -U --user --force-reinstall'"
     ]
    }
   ],
   "source": [
    "taxi_data_prep.hist(figsize=(30,20), bins=60)"
   ]
  },
  {
   "cell_type": "code",
   "execution_count": null,
   "id": "ea17ce13",
   "metadata": {},
   "outputs": [
    {
     "ename": "",
     "evalue": "",
     "output_type": "error",
     "traceback": [
      "\u001b[1;31mRunning cells with 'Python 3.12.5' requires the ipykernel package.\n",
      "\u001b[1;31mRun the following command to install 'ipykernel' into the Python environment. \n",
      "\u001b[1;31mCommand: 'c:/Users/dario.maroto/AppData/Local/Microsoft/WindowsApps/python3.12.exe -m pip install ipykernel -U --user --force-reinstall'"
     ]
    }
   ],
   "source": []
  }
 ],
 "metadata": {
  "kernelspec": {
   "display_name": "Python 3 (ipykernel)",
   "language": "python",
   "name": "python3"
  },
  "language_info": {
   "codemirror_mode": {
    "name": "ipython",
    "version": 3
   },
   "file_extension": ".py",
   "mimetype": "text/x-python",
   "name": "python",
   "nbconvert_exporter": "python",
   "pygments_lexer": "ipython3",
   "version": "3.11.6"
  }
 },
 "nbformat": 4,
 "nbformat_minor": 5
}
